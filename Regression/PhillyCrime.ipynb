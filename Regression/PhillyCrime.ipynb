{
 "cells": [
  {
   "cell_type": "code",
   "execution_count": 3,
   "metadata": {
    "collapsed": false
   },
   "outputs": [
    {
     "name": "stdout",
     "output_type": "stream",
     "text": [
      "\n",
      "By running this function, you agree to the following licenses.\n",
      "\n",
      "* libstdc++: https://gcc.gnu.org/onlinedocs/libstdc++/manual/license.html\n",
      "* xz: http://git.tukaani.org/?p=xz.git;a=blob;f=COPYING\n",
      "    \n",
      "Downloading xz.\n",
      "Extracting xz.\n",
      "Downloading gcc-libs.\n",
      "Extracting gcc-libs.\n",
      "Copying gcc-libs into the installation directory.\n"
     ]
    }
   ],
   "source": [
    "graphlab.get_dependencies()"
   ]
  },
  {
   "cell_type": "markdown",
   "metadata": {},
   "source": [
    "#Fire up graphlab create"
   ]
  },
  {
   "cell_type": "code",
   "execution_count": 2,
   "metadata": {
    "collapsed": false
   },
   "outputs": [
    {
     "ename": "AttributeError",
     "evalue": "'module' object has no attribute 'connect'",
     "output_type": "error",
     "traceback": [
      "\u001b[1;31m---------------------------------------------------------------------------\u001b[0m",
      "\u001b[1;31mAttributeError\u001b[0m                            Traceback (most recent call last)",
      "\u001b[1;32m<ipython-input-2-4b66ad388e97>\u001b[0m in \u001b[0;36m<module>\u001b[1;34m()\u001b[0m\n\u001b[1;32m----> 1\u001b[1;33m \u001b[1;32mimport\u001b[0m \u001b[0mgraphlab\u001b[0m\u001b[1;33m\u001b[0m\u001b[0m\n\u001b[0m",
      "\u001b[1;32mC:\\Users\\kaykay\\Anaconda2\\envs\\gl-env\\lib\\site-packages\\graphlab\\__init__.py\u001b[0m in \u001b[0;36m<module>\u001b[1;34m()\u001b[0m\n\u001b[0;32m     48\u001b[0m \u001b[1;32mfrom\u001b[0m \u001b[0mgraphlab\u001b[0m\u001b[1;33m.\u001b[0m\u001b[0mutil\u001b[0m \u001b[1;32mimport\u001b[0m \u001b[0mset_runtime_config\u001b[0m\u001b[1;33m\u001b[0m\u001b[0m\n\u001b[0;32m     49\u001b[0m \u001b[1;33m\u001b[0m\u001b[0m\n\u001b[1;32m---> 50\u001b[1;33m \u001b[1;32mimport\u001b[0m \u001b[0mgraphlab\u001b[0m\u001b[1;33m.\u001b[0m\u001b[0mconnect\u001b[0m \u001b[1;32mas\u001b[0m \u001b[0m_mt\u001b[0m\u001b[1;33m\u001b[0m\u001b[0m\n\u001b[0m\u001b[0;32m     51\u001b[0m \u001b[1;32mimport\u001b[0m \u001b[0mgraphlab\u001b[0m\u001b[1;33m.\u001b[0m\u001b[0mconnect\u001b[0m\u001b[1;33m.\u001b[0m\u001b[0maws\u001b[0m \u001b[1;32mas\u001b[0m \u001b[0maws\u001b[0m\u001b[1;33m\u001b[0m\u001b[0m\n\u001b[0;32m     52\u001b[0m \u001b[1;32mfrom\u001b[0m \u001b[1;33m.\u001b[0m \u001b[1;32mimport\u001b[0m \u001b[0mvisualization\u001b[0m\u001b[1;33m\u001b[0m\u001b[0m\n",
      "\u001b[1;31mAttributeError\u001b[0m: 'module' object has no attribute 'connect'"
     ]
    }
   ],
   "source": [
    "import graphlab"
   ]
  },
  {
   "cell_type": "markdown",
   "metadata": {},
   "source": [
    "#Load some house value vs. crime rate data\n",
    "\n",
    "Dataset is from Philadelphia, PA and includes average house sales price in a number of neighborhoods.  The attributes of each neighborhood we have include the crime rate ('CrimeRate'), miles from Center City ('MilesPhila'), town name ('Name'), and county name ('County')."
   ]
  },
  {
   "cell_type": "code",
   "execution_count": null,
   "metadata": {
    "collapsed": false
   },
   "outputs": [],
   "source": [
    "sales = graphlab.SFrame.read_csv('experiment.csv/')"
   ]
  },
  {
   "cell_type": "code",
   "execution_count": 5,
   "metadata": {
    "collapsed": false
   },
   "outputs": [
    {
     "data": {
      "text/html": [
       "<div style=\"max-height:1000px;max-width:1500px;overflow:auto;\"><table frame=\"box\" rules=\"cols\">\n",
       "    <tr>\n",
       "        <th style=\"padding-left: 1em; padding-right: 1em; text-align: center\">id</th>\n",
       "        <th style=\"padding-left: 1em; padding-right: 1em; text-align: center\">date</th>\n",
       "        <th style=\"padding-left: 1em; padding-right: 1em; text-align: center\">price</th>\n",
       "        <th style=\"padding-left: 1em; padding-right: 1em; text-align: center\">bedrooms</th>\n",
       "        <th style=\"padding-left: 1em; padding-right: 1em; text-align: center\">bathrooms</th>\n",
       "        <th style=\"padding-left: 1em; padding-right: 1em; text-align: center\">sqft_living</th>\n",
       "        <th style=\"padding-left: 1em; padding-right: 1em; text-align: center\">sqft_lot</th>\n",
       "        <th style=\"padding-left: 1em; padding-right: 1em; text-align: center\">floors</th>\n",
       "        <th style=\"padding-left: 1em; padding-right: 1em; text-align: center\">waterfront</th>\n",
       "        <th style=\"padding-left: 1em; padding-right: 1em; text-align: center\">view</th>\n",
       "    </tr>\n",
       "    <tr>\n",
       "        <td style=\"padding-left: 1em; padding-right: 1em; text-align: center; vertical-align: top\">7129300520</td>\n",
       "        <td style=\"padding-left: 1em; padding-right: 1em; text-align: center; vertical-align: top\">20141013T000000</td>\n",
       "        <td style=\"padding-left: 1em; padding-right: 1em; text-align: center; vertical-align: top\">221900.0</td>\n",
       "        <td style=\"padding-left: 1em; padding-right: 1em; text-align: center; vertical-align: top\">3</td>\n",
       "        <td style=\"padding-left: 1em; padding-right: 1em; text-align: center; vertical-align: top\">1.0</td>\n",
       "        <td style=\"padding-left: 1em; padding-right: 1em; text-align: center; vertical-align: top\">1180</td>\n",
       "        <td style=\"padding-left: 1em; padding-right: 1em; text-align: center; vertical-align: top\">5650</td>\n",
       "        <td style=\"padding-left: 1em; padding-right: 1em; text-align: center; vertical-align: top\">1.0</td>\n",
       "        <td style=\"padding-left: 1em; padding-right: 1em; text-align: center; vertical-align: top\">0</td>\n",
       "        <td style=\"padding-left: 1em; padding-right: 1em; text-align: center; vertical-align: top\">0</td>\n",
       "    </tr>\n",
       "    <tr>\n",
       "        <td style=\"padding-left: 1em; padding-right: 1em; text-align: center; vertical-align: top\">6414100192</td>\n",
       "        <td style=\"padding-left: 1em; padding-right: 1em; text-align: center; vertical-align: top\">20141209T000000</td>\n",
       "        <td style=\"padding-left: 1em; padding-right: 1em; text-align: center; vertical-align: top\">538000.0</td>\n",
       "        <td style=\"padding-left: 1em; padding-right: 1em; text-align: center; vertical-align: top\">3</td>\n",
       "        <td style=\"padding-left: 1em; padding-right: 1em; text-align: center; vertical-align: top\">2.25</td>\n",
       "        <td style=\"padding-left: 1em; padding-right: 1em; text-align: center; vertical-align: top\">2570</td>\n",
       "        <td style=\"padding-left: 1em; padding-right: 1em; text-align: center; vertical-align: top\">7242</td>\n",
       "        <td style=\"padding-left: 1em; padding-right: 1em; text-align: center; vertical-align: top\">2.0</td>\n",
       "        <td style=\"padding-left: 1em; padding-right: 1em; text-align: center; vertical-align: top\">0</td>\n",
       "        <td style=\"padding-left: 1em; padding-right: 1em; text-align: center; vertical-align: top\">0</td>\n",
       "    </tr>\n",
       "    <tr>\n",
       "        <td style=\"padding-left: 1em; padding-right: 1em; text-align: center; vertical-align: top\">5631500400</td>\n",
       "        <td style=\"padding-left: 1em; padding-right: 1em; text-align: center; vertical-align: top\">20150225T000000</td>\n",
       "        <td style=\"padding-left: 1em; padding-right: 1em; text-align: center; vertical-align: top\">180000.0</td>\n",
       "        <td style=\"padding-left: 1em; padding-right: 1em; text-align: center; vertical-align: top\">2</td>\n",
       "        <td style=\"padding-left: 1em; padding-right: 1em; text-align: center; vertical-align: top\">1.0</td>\n",
       "        <td style=\"padding-left: 1em; padding-right: 1em; text-align: center; vertical-align: top\">770</td>\n",
       "        <td style=\"padding-left: 1em; padding-right: 1em; text-align: center; vertical-align: top\">10000</td>\n",
       "        <td style=\"padding-left: 1em; padding-right: 1em; text-align: center; vertical-align: top\">1.0</td>\n",
       "        <td style=\"padding-left: 1em; padding-right: 1em; text-align: center; vertical-align: top\">0</td>\n",
       "        <td style=\"padding-left: 1em; padding-right: 1em; text-align: center; vertical-align: top\">0</td>\n",
       "    </tr>\n",
       "    <tr>\n",
       "        <td style=\"padding-left: 1em; padding-right: 1em; text-align: center; vertical-align: top\">2487200875</td>\n",
       "        <td style=\"padding-left: 1em; padding-right: 1em; text-align: center; vertical-align: top\">20141209T000000</td>\n",
       "        <td style=\"padding-left: 1em; padding-right: 1em; text-align: center; vertical-align: top\">604000.0</td>\n",
       "        <td style=\"padding-left: 1em; padding-right: 1em; text-align: center; vertical-align: top\">4</td>\n",
       "        <td style=\"padding-left: 1em; padding-right: 1em; text-align: center; vertical-align: top\">3.0</td>\n",
       "        <td style=\"padding-left: 1em; padding-right: 1em; text-align: center; vertical-align: top\">1960</td>\n",
       "        <td style=\"padding-left: 1em; padding-right: 1em; text-align: center; vertical-align: top\">5000</td>\n",
       "        <td style=\"padding-left: 1em; padding-right: 1em; text-align: center; vertical-align: top\">1.0</td>\n",
       "        <td style=\"padding-left: 1em; padding-right: 1em; text-align: center; vertical-align: top\">0</td>\n",
       "        <td style=\"padding-left: 1em; padding-right: 1em; text-align: center; vertical-align: top\">0</td>\n",
       "    </tr>\n",
       "    <tr>\n",
       "        <td style=\"padding-left: 1em; padding-right: 1em; text-align: center; vertical-align: top\">1954400510</td>\n",
       "        <td style=\"padding-left: 1em; padding-right: 1em; text-align: center; vertical-align: top\">20150218T000000</td>\n",
       "        <td style=\"padding-left: 1em; padding-right: 1em; text-align: center; vertical-align: top\">510000.0</td>\n",
       "        <td style=\"padding-left: 1em; padding-right: 1em; text-align: center; vertical-align: top\">3</td>\n",
       "        <td style=\"padding-left: 1em; padding-right: 1em; text-align: center; vertical-align: top\">2.0</td>\n",
       "        <td style=\"padding-left: 1em; padding-right: 1em; text-align: center; vertical-align: top\">1680</td>\n",
       "        <td style=\"padding-left: 1em; padding-right: 1em; text-align: center; vertical-align: top\">8080</td>\n",
       "        <td style=\"padding-left: 1em; padding-right: 1em; text-align: center; vertical-align: top\">1.0</td>\n",
       "        <td style=\"padding-left: 1em; padding-right: 1em; text-align: center; vertical-align: top\">0</td>\n",
       "        <td style=\"padding-left: 1em; padding-right: 1em; text-align: center; vertical-align: top\">0</td>\n",
       "    </tr>\n",
       "    <tr>\n",
       "        <td style=\"padding-left: 1em; padding-right: 1em; text-align: center; vertical-align: top\">7237550310</td>\n",
       "        <td style=\"padding-left: 1em; padding-right: 1em; text-align: center; vertical-align: top\">20140512T000000</td>\n",
       "        <td style=\"padding-left: 1em; padding-right: 1em; text-align: center; vertical-align: top\">1225000.0</td>\n",
       "        <td style=\"padding-left: 1em; padding-right: 1em; text-align: center; vertical-align: top\">4</td>\n",
       "        <td style=\"padding-left: 1em; padding-right: 1em; text-align: center; vertical-align: top\">4.5</td>\n",
       "        <td style=\"padding-left: 1em; padding-right: 1em; text-align: center; vertical-align: top\">5420</td>\n",
       "        <td style=\"padding-left: 1em; padding-right: 1em; text-align: center; vertical-align: top\">101930</td>\n",
       "        <td style=\"padding-left: 1em; padding-right: 1em; text-align: center; vertical-align: top\">1.0</td>\n",
       "        <td style=\"padding-left: 1em; padding-right: 1em; text-align: center; vertical-align: top\">0</td>\n",
       "        <td style=\"padding-left: 1em; padding-right: 1em; text-align: center; vertical-align: top\">0</td>\n",
       "    </tr>\n",
       "    <tr>\n",
       "        <td style=\"padding-left: 1em; padding-right: 1em; text-align: center; vertical-align: top\">1321400060</td>\n",
       "        <td style=\"padding-left: 1em; padding-right: 1em; text-align: center; vertical-align: top\">20140627T000000</td>\n",
       "        <td style=\"padding-left: 1em; padding-right: 1em; text-align: center; vertical-align: top\">257500.0</td>\n",
       "        <td style=\"padding-left: 1em; padding-right: 1em; text-align: center; vertical-align: top\">3</td>\n",
       "        <td style=\"padding-left: 1em; padding-right: 1em; text-align: center; vertical-align: top\">2.25</td>\n",
       "        <td style=\"padding-left: 1em; padding-right: 1em; text-align: center; vertical-align: top\">1715</td>\n",
       "        <td style=\"padding-left: 1em; padding-right: 1em; text-align: center; vertical-align: top\">6819</td>\n",
       "        <td style=\"padding-left: 1em; padding-right: 1em; text-align: center; vertical-align: top\">2.0</td>\n",
       "        <td style=\"padding-left: 1em; padding-right: 1em; text-align: center; vertical-align: top\">0</td>\n",
       "        <td style=\"padding-left: 1em; padding-right: 1em; text-align: center; vertical-align: top\">0</td>\n",
       "    </tr>\n",
       "    <tr>\n",
       "        <td style=\"padding-left: 1em; padding-right: 1em; text-align: center; vertical-align: top\">2008000270</td>\n",
       "        <td style=\"padding-left: 1em; padding-right: 1em; text-align: center; vertical-align: top\">20150115T000000</td>\n",
       "        <td style=\"padding-left: 1em; padding-right: 1em; text-align: center; vertical-align: top\">291850.0</td>\n",
       "        <td style=\"padding-left: 1em; padding-right: 1em; text-align: center; vertical-align: top\">3</td>\n",
       "        <td style=\"padding-left: 1em; padding-right: 1em; text-align: center; vertical-align: top\">1.5</td>\n",
       "        <td style=\"padding-left: 1em; padding-right: 1em; text-align: center; vertical-align: top\">1060</td>\n",
       "        <td style=\"padding-left: 1em; padding-right: 1em; text-align: center; vertical-align: top\">9711</td>\n",
       "        <td style=\"padding-left: 1em; padding-right: 1em; text-align: center; vertical-align: top\">1.0</td>\n",
       "        <td style=\"padding-left: 1em; padding-right: 1em; text-align: center; vertical-align: top\">0</td>\n",
       "        <td style=\"padding-left: 1em; padding-right: 1em; text-align: center; vertical-align: top\">0</td>\n",
       "    </tr>\n",
       "    <tr>\n",
       "        <td style=\"padding-left: 1em; padding-right: 1em; text-align: center; vertical-align: top\">2414600126</td>\n",
       "        <td style=\"padding-left: 1em; padding-right: 1em; text-align: center; vertical-align: top\">20150415T000000</td>\n",
       "        <td style=\"padding-left: 1em; padding-right: 1em; text-align: center; vertical-align: top\">229500.0</td>\n",
       "        <td style=\"padding-left: 1em; padding-right: 1em; text-align: center; vertical-align: top\">3</td>\n",
       "        <td style=\"padding-left: 1em; padding-right: 1em; text-align: center; vertical-align: top\">1.0</td>\n",
       "        <td style=\"padding-left: 1em; padding-right: 1em; text-align: center; vertical-align: top\">1780</td>\n",
       "        <td style=\"padding-left: 1em; padding-right: 1em; text-align: center; vertical-align: top\">7470</td>\n",
       "        <td style=\"padding-left: 1em; padding-right: 1em; text-align: center; vertical-align: top\">1.0</td>\n",
       "        <td style=\"padding-left: 1em; padding-right: 1em; text-align: center; vertical-align: top\">0</td>\n",
       "        <td style=\"padding-left: 1em; padding-right: 1em; text-align: center; vertical-align: top\">0</td>\n",
       "    </tr>\n",
       "    <tr>\n",
       "        <td style=\"padding-left: 1em; padding-right: 1em; text-align: center; vertical-align: top\">3793500160</td>\n",
       "        <td style=\"padding-left: 1em; padding-right: 1em; text-align: center; vertical-align: top\">20150312T000000</td>\n",
       "        <td style=\"padding-left: 1em; padding-right: 1em; text-align: center; vertical-align: top\">323000.0</td>\n",
       "        <td style=\"padding-left: 1em; padding-right: 1em; text-align: center; vertical-align: top\">3</td>\n",
       "        <td style=\"padding-left: 1em; padding-right: 1em; text-align: center; vertical-align: top\">2.5</td>\n",
       "        <td style=\"padding-left: 1em; padding-right: 1em; text-align: center; vertical-align: top\">1890</td>\n",
       "        <td style=\"padding-left: 1em; padding-right: 1em; text-align: center; vertical-align: top\">6560</td>\n",
       "        <td style=\"padding-left: 1em; padding-right: 1em; text-align: center; vertical-align: top\">2.0</td>\n",
       "        <td style=\"padding-left: 1em; padding-right: 1em; text-align: center; vertical-align: top\">0</td>\n",
       "        <td style=\"padding-left: 1em; padding-right: 1em; text-align: center; vertical-align: top\">0</td>\n",
       "    </tr>\n",
       "</table>\n",
       "<table frame=\"box\" rules=\"cols\">\n",
       "    <tr>\n",
       "        <th style=\"padding-left: 1em; padding-right: 1em; text-align: center\">condition</th>\n",
       "        <th style=\"padding-left: 1em; padding-right: 1em; text-align: center\">grade</th>\n",
       "        <th style=\"padding-left: 1em; padding-right: 1em; text-align: center\">sqft_above</th>\n",
       "        <th style=\"padding-left: 1em; padding-right: 1em; text-align: center\">sqft_basement</th>\n",
       "        <th style=\"padding-left: 1em; padding-right: 1em; text-align: center\">yr_built</th>\n",
       "        <th style=\"padding-left: 1em; padding-right: 1em; text-align: center\">yr_renovated</th>\n",
       "        <th style=\"padding-left: 1em; padding-right: 1em; text-align: center\">zipcode</th>\n",
       "        <th style=\"padding-left: 1em; padding-right: 1em; text-align: center\">lat</th>\n",
       "        <th style=\"padding-left: 1em; padding-right: 1em; text-align: center\">long</th>\n",
       "        <th style=\"padding-left: 1em; padding-right: 1em; text-align: center\">sqft_living15</th>\n",
       "    </tr>\n",
       "    <tr>\n",
       "        <td style=\"padding-left: 1em; padding-right: 1em; text-align: center; vertical-align: top\">3</td>\n",
       "        <td style=\"padding-left: 1em; padding-right: 1em; text-align: center; vertical-align: top\">7</td>\n",
       "        <td style=\"padding-left: 1em; padding-right: 1em; text-align: center; vertical-align: top\">1180</td>\n",
       "        <td style=\"padding-left: 1em; padding-right: 1em; text-align: center; vertical-align: top\">0</td>\n",
       "        <td style=\"padding-left: 1em; padding-right: 1em; text-align: center; vertical-align: top\">1955</td>\n",
       "        <td style=\"padding-left: 1em; padding-right: 1em; text-align: center; vertical-align: top\">0</td>\n",
       "        <td style=\"padding-left: 1em; padding-right: 1em; text-align: center; vertical-align: top\">98178</td>\n",
       "        <td style=\"padding-left: 1em; padding-right: 1em; text-align: center; vertical-align: top\">47.5112</td>\n",
       "        <td style=\"padding-left: 1em; padding-right: 1em; text-align: center; vertical-align: top\">-122.257</td>\n",
       "        <td style=\"padding-left: 1em; padding-right: 1em; text-align: center; vertical-align: top\">1340</td>\n",
       "    </tr>\n",
       "    <tr>\n",
       "        <td style=\"padding-left: 1em; padding-right: 1em; text-align: center; vertical-align: top\">3</td>\n",
       "        <td style=\"padding-left: 1em; padding-right: 1em; text-align: center; vertical-align: top\">7</td>\n",
       "        <td style=\"padding-left: 1em; padding-right: 1em; text-align: center; vertical-align: top\">2170</td>\n",
       "        <td style=\"padding-left: 1em; padding-right: 1em; text-align: center; vertical-align: top\">400</td>\n",
       "        <td style=\"padding-left: 1em; padding-right: 1em; text-align: center; vertical-align: top\">1951</td>\n",
       "        <td style=\"padding-left: 1em; padding-right: 1em; text-align: center; vertical-align: top\">1991</td>\n",
       "        <td style=\"padding-left: 1em; padding-right: 1em; text-align: center; vertical-align: top\">98125</td>\n",
       "        <td style=\"padding-left: 1em; padding-right: 1em; text-align: center; vertical-align: top\">47.721</td>\n",
       "        <td style=\"padding-left: 1em; padding-right: 1em; text-align: center; vertical-align: top\">-122.319</td>\n",
       "        <td style=\"padding-left: 1em; padding-right: 1em; text-align: center; vertical-align: top\">1690</td>\n",
       "    </tr>\n",
       "    <tr>\n",
       "        <td style=\"padding-left: 1em; padding-right: 1em; text-align: center; vertical-align: top\">3</td>\n",
       "        <td style=\"padding-left: 1em; padding-right: 1em; text-align: center; vertical-align: top\">6</td>\n",
       "        <td style=\"padding-left: 1em; padding-right: 1em; text-align: center; vertical-align: top\">770</td>\n",
       "        <td style=\"padding-left: 1em; padding-right: 1em; text-align: center; vertical-align: top\">0</td>\n",
       "        <td style=\"padding-left: 1em; padding-right: 1em; text-align: center; vertical-align: top\">1933</td>\n",
       "        <td style=\"padding-left: 1em; padding-right: 1em; text-align: center; vertical-align: top\">0</td>\n",
       "        <td style=\"padding-left: 1em; padding-right: 1em; text-align: center; vertical-align: top\">98028</td>\n",
       "        <td style=\"padding-left: 1em; padding-right: 1em; text-align: center; vertical-align: top\">47.7379</td>\n",
       "        <td style=\"padding-left: 1em; padding-right: 1em; text-align: center; vertical-align: top\">-122.233</td>\n",
       "        <td style=\"padding-left: 1em; padding-right: 1em; text-align: center; vertical-align: top\">2720</td>\n",
       "    </tr>\n",
       "    <tr>\n",
       "        <td style=\"padding-left: 1em; padding-right: 1em; text-align: center; vertical-align: top\">5</td>\n",
       "        <td style=\"padding-left: 1em; padding-right: 1em; text-align: center; vertical-align: top\">7</td>\n",
       "        <td style=\"padding-left: 1em; padding-right: 1em; text-align: center; vertical-align: top\">1050</td>\n",
       "        <td style=\"padding-left: 1em; padding-right: 1em; text-align: center; vertical-align: top\">910</td>\n",
       "        <td style=\"padding-left: 1em; padding-right: 1em; text-align: center; vertical-align: top\">1965</td>\n",
       "        <td style=\"padding-left: 1em; padding-right: 1em; text-align: center; vertical-align: top\">0</td>\n",
       "        <td style=\"padding-left: 1em; padding-right: 1em; text-align: center; vertical-align: top\">98136</td>\n",
       "        <td style=\"padding-left: 1em; padding-right: 1em; text-align: center; vertical-align: top\">47.5208</td>\n",
       "        <td style=\"padding-left: 1em; padding-right: 1em; text-align: center; vertical-align: top\">-122.393</td>\n",
       "        <td style=\"padding-left: 1em; padding-right: 1em; text-align: center; vertical-align: top\">1360</td>\n",
       "    </tr>\n",
       "    <tr>\n",
       "        <td style=\"padding-left: 1em; padding-right: 1em; text-align: center; vertical-align: top\">3</td>\n",
       "        <td style=\"padding-left: 1em; padding-right: 1em; text-align: center; vertical-align: top\">8</td>\n",
       "        <td style=\"padding-left: 1em; padding-right: 1em; text-align: center; vertical-align: top\">1680</td>\n",
       "        <td style=\"padding-left: 1em; padding-right: 1em; text-align: center; vertical-align: top\">0</td>\n",
       "        <td style=\"padding-left: 1em; padding-right: 1em; text-align: center; vertical-align: top\">1987</td>\n",
       "        <td style=\"padding-left: 1em; padding-right: 1em; text-align: center; vertical-align: top\">0</td>\n",
       "        <td style=\"padding-left: 1em; padding-right: 1em; text-align: center; vertical-align: top\">98074</td>\n",
       "        <td style=\"padding-left: 1em; padding-right: 1em; text-align: center; vertical-align: top\">47.6168</td>\n",
       "        <td style=\"padding-left: 1em; padding-right: 1em; text-align: center; vertical-align: top\">-122.045</td>\n",
       "        <td style=\"padding-left: 1em; padding-right: 1em; text-align: center; vertical-align: top\">1800</td>\n",
       "    </tr>\n",
       "    <tr>\n",
       "        <td style=\"padding-left: 1em; padding-right: 1em; text-align: center; vertical-align: top\">3</td>\n",
       "        <td style=\"padding-left: 1em; padding-right: 1em; text-align: center; vertical-align: top\">11</td>\n",
       "        <td style=\"padding-left: 1em; padding-right: 1em; text-align: center; vertical-align: top\">3890</td>\n",
       "        <td style=\"padding-left: 1em; padding-right: 1em; text-align: center; vertical-align: top\">1530</td>\n",
       "        <td style=\"padding-left: 1em; padding-right: 1em; text-align: center; vertical-align: top\">2001</td>\n",
       "        <td style=\"padding-left: 1em; padding-right: 1em; text-align: center; vertical-align: top\">0</td>\n",
       "        <td style=\"padding-left: 1em; padding-right: 1em; text-align: center; vertical-align: top\">98053</td>\n",
       "        <td style=\"padding-left: 1em; padding-right: 1em; text-align: center; vertical-align: top\">47.6561</td>\n",
       "        <td style=\"padding-left: 1em; padding-right: 1em; text-align: center; vertical-align: top\">-122.005</td>\n",
       "        <td style=\"padding-left: 1em; padding-right: 1em; text-align: center; vertical-align: top\">4760</td>\n",
       "    </tr>\n",
       "    <tr>\n",
       "        <td style=\"padding-left: 1em; padding-right: 1em; text-align: center; vertical-align: top\">3</td>\n",
       "        <td style=\"padding-left: 1em; padding-right: 1em; text-align: center; vertical-align: top\">7</td>\n",
       "        <td style=\"padding-left: 1em; padding-right: 1em; text-align: center; vertical-align: top\">1715</td>\n",
       "        <td style=\"padding-left: 1em; padding-right: 1em; text-align: center; vertical-align: top\">0</td>\n",
       "        <td style=\"padding-left: 1em; padding-right: 1em; text-align: center; vertical-align: top\">1995</td>\n",
       "        <td style=\"padding-left: 1em; padding-right: 1em; text-align: center; vertical-align: top\">0</td>\n",
       "        <td style=\"padding-left: 1em; padding-right: 1em; text-align: center; vertical-align: top\">98003</td>\n",
       "        <td style=\"padding-left: 1em; padding-right: 1em; text-align: center; vertical-align: top\">47.3097</td>\n",
       "        <td style=\"padding-left: 1em; padding-right: 1em; text-align: center; vertical-align: top\">-122.327</td>\n",
       "        <td style=\"padding-left: 1em; padding-right: 1em; text-align: center; vertical-align: top\">2238</td>\n",
       "    </tr>\n",
       "    <tr>\n",
       "        <td style=\"padding-left: 1em; padding-right: 1em; text-align: center; vertical-align: top\">3</td>\n",
       "        <td style=\"padding-left: 1em; padding-right: 1em; text-align: center; vertical-align: top\">7</td>\n",
       "        <td style=\"padding-left: 1em; padding-right: 1em; text-align: center; vertical-align: top\">1060</td>\n",
       "        <td style=\"padding-left: 1em; padding-right: 1em; text-align: center; vertical-align: top\">0</td>\n",
       "        <td style=\"padding-left: 1em; padding-right: 1em; text-align: center; vertical-align: top\">1963</td>\n",
       "        <td style=\"padding-left: 1em; padding-right: 1em; text-align: center; vertical-align: top\">0</td>\n",
       "        <td style=\"padding-left: 1em; padding-right: 1em; text-align: center; vertical-align: top\">98198</td>\n",
       "        <td style=\"padding-left: 1em; padding-right: 1em; text-align: center; vertical-align: top\">47.4095</td>\n",
       "        <td style=\"padding-left: 1em; padding-right: 1em; text-align: center; vertical-align: top\">-122.315</td>\n",
       "        <td style=\"padding-left: 1em; padding-right: 1em; text-align: center; vertical-align: top\">1650</td>\n",
       "    </tr>\n",
       "    <tr>\n",
       "        <td style=\"padding-left: 1em; padding-right: 1em; text-align: center; vertical-align: top\">3</td>\n",
       "        <td style=\"padding-left: 1em; padding-right: 1em; text-align: center; vertical-align: top\">7</td>\n",
       "        <td style=\"padding-left: 1em; padding-right: 1em; text-align: center; vertical-align: top\">1050</td>\n",
       "        <td style=\"padding-left: 1em; padding-right: 1em; text-align: center; vertical-align: top\">730</td>\n",
       "        <td style=\"padding-left: 1em; padding-right: 1em; text-align: center; vertical-align: top\">1960</td>\n",
       "        <td style=\"padding-left: 1em; padding-right: 1em; text-align: center; vertical-align: top\">0</td>\n",
       "        <td style=\"padding-left: 1em; padding-right: 1em; text-align: center; vertical-align: top\">98146</td>\n",
       "        <td style=\"padding-left: 1em; padding-right: 1em; text-align: center; vertical-align: top\">47.5123</td>\n",
       "        <td style=\"padding-left: 1em; padding-right: 1em; text-align: center; vertical-align: top\">-122.337</td>\n",
       "        <td style=\"padding-left: 1em; padding-right: 1em; text-align: center; vertical-align: top\">1780</td>\n",
       "    </tr>\n",
       "    <tr>\n",
       "        <td style=\"padding-left: 1em; padding-right: 1em; text-align: center; vertical-align: top\">3</td>\n",
       "        <td style=\"padding-left: 1em; padding-right: 1em; text-align: center; vertical-align: top\">7</td>\n",
       "        <td style=\"padding-left: 1em; padding-right: 1em; text-align: center; vertical-align: top\">1890</td>\n",
       "        <td style=\"padding-left: 1em; padding-right: 1em; text-align: center; vertical-align: top\">0</td>\n",
       "        <td style=\"padding-left: 1em; padding-right: 1em; text-align: center; vertical-align: top\">2003</td>\n",
       "        <td style=\"padding-left: 1em; padding-right: 1em; text-align: center; vertical-align: top\">0</td>\n",
       "        <td style=\"padding-left: 1em; padding-right: 1em; text-align: center; vertical-align: top\">98038</td>\n",
       "        <td style=\"padding-left: 1em; padding-right: 1em; text-align: center; vertical-align: top\">47.3684</td>\n",
       "        <td style=\"padding-left: 1em; padding-right: 1em; text-align: center; vertical-align: top\">-122.031</td>\n",
       "        <td style=\"padding-left: 1em; padding-right: 1em; text-align: center; vertical-align: top\">2390</td>\n",
       "    </tr>\n",
       "</table>\n",
       "<table frame=\"box\" rules=\"cols\">\n",
       "    <tr>\n",
       "        <th style=\"padding-left: 1em; padding-right: 1em; text-align: center\">sqft_lot15</th>\n",
       "    </tr>\n",
       "    <tr>\n",
       "        <td style=\"padding-left: 1em; padding-right: 1em; text-align: center; vertical-align: top\">5650</td>\n",
       "    </tr>\n",
       "    <tr>\n",
       "        <td style=\"padding-left: 1em; padding-right: 1em; text-align: center; vertical-align: top\">7639</td>\n",
       "    </tr>\n",
       "    <tr>\n",
       "        <td style=\"padding-left: 1em; padding-right: 1em; text-align: center; vertical-align: top\">8062</td>\n",
       "    </tr>\n",
       "    <tr>\n",
       "        <td style=\"padding-left: 1em; padding-right: 1em; text-align: center; vertical-align: top\">5000</td>\n",
       "    </tr>\n",
       "    <tr>\n",
       "        <td style=\"padding-left: 1em; padding-right: 1em; text-align: center; vertical-align: top\">7503</td>\n",
       "    </tr>\n",
       "    <tr>\n",
       "        <td style=\"padding-left: 1em; padding-right: 1em; text-align: center; vertical-align: top\">101930</td>\n",
       "    </tr>\n",
       "    <tr>\n",
       "        <td style=\"padding-left: 1em; padding-right: 1em; text-align: center; vertical-align: top\">6819</td>\n",
       "    </tr>\n",
       "    <tr>\n",
       "        <td style=\"padding-left: 1em; padding-right: 1em; text-align: center; vertical-align: top\">9711</td>\n",
       "    </tr>\n",
       "    <tr>\n",
       "        <td style=\"padding-left: 1em; padding-right: 1em; text-align: center; vertical-align: top\">8113</td>\n",
       "    </tr>\n",
       "    <tr>\n",
       "        <td style=\"padding-left: 1em; padding-right: 1em; text-align: center; vertical-align: top\">7570</td>\n",
       "    </tr>\n",
       "</table>\n",
       "[21613 rows x 21 columns]<br/>Note: Only the head of the SFrame is printed.<br/>You can use print_rows(num_rows=m, num_columns=n) to print more rows and columns.\n",
       "</div>"
      ],
      "text/plain": [
       "Columns:\n",
       "\tid\tint\n",
       "\tdate\tstr\n",
       "\tprice\tfloat\n",
       "\tbedrooms\tint\n",
       "\tbathrooms\tfloat\n",
       "\tsqft_living\tint\n",
       "\tsqft_lot\tint\n",
       "\tfloors\tfloat\n",
       "\twaterfront\tint\n",
       "\tview\tint\n",
       "\tcondition\tint\n",
       "\tgrade\tint\n",
       "\tsqft_above\tint\n",
       "\tsqft_basement\tint\n",
       "\tyr_built\tint\n",
       "\tyr_renovated\tint\n",
       "\tzipcode\tint\n",
       "\tlat\tfloat\n",
       "\tlong\tfloat\n",
       "\tsqft_living15\tint\n",
       "\tsqft_lot15\tint\n",
       "\n",
       "Rows: 21613\n",
       "\n",
       "Data:\n",
       "+------------+-----------------+-----------+----------+-----------+-------------+\n",
       "|     id     |       date      |   price   | bedrooms | bathrooms | sqft_living |\n",
       "+------------+-----------------+-----------+----------+-----------+-------------+\n",
       "| 7129300520 | 20141013T000000 |  221900.0 |    3     |    1.0    |     1180    |\n",
       "| 6414100192 | 20141209T000000 |  538000.0 |    3     |    2.25   |     2570    |\n",
       "| 5631500400 | 20150225T000000 |  180000.0 |    2     |    1.0    |     770     |\n",
       "| 2487200875 | 20141209T000000 |  604000.0 |    4     |    3.0    |     1960    |\n",
       "| 1954400510 | 20150218T000000 |  510000.0 |    3     |    2.0    |     1680    |\n",
       "| 7237550310 | 20140512T000000 | 1225000.0 |    4     |    4.5    |     5420    |\n",
       "| 1321400060 | 20140627T000000 |  257500.0 |    3     |    2.25   |     1715    |\n",
       "| 2008000270 | 20150115T000000 |  291850.0 |    3     |    1.5    |     1060    |\n",
       "| 2414600126 | 20150415T000000 |  229500.0 |    3     |    1.0    |     1780    |\n",
       "| 3793500160 | 20150312T000000 |  323000.0 |    3     |    2.5    |     1890    |\n",
       "+------------+-----------------+-----------+----------+-----------+-------------+\n",
       "+----------+--------+------------+------+-----------+-------+------------+---------------+\n",
       "| sqft_lot | floors | waterfront | view | condition | grade | sqft_above | sqft_basement |\n",
       "+----------+--------+------------+------+-----------+-------+------------+---------------+\n",
       "|   5650   |  1.0   |     0      |  0   |     3     |   7   |    1180    |       0       |\n",
       "|   7242   |  2.0   |     0      |  0   |     3     |   7   |    2170    |      400      |\n",
       "|  10000   |  1.0   |     0      |  0   |     3     |   6   |    770     |       0       |\n",
       "|   5000   |  1.0   |     0      |  0   |     5     |   7   |    1050    |      910      |\n",
       "|   8080   |  1.0   |     0      |  0   |     3     |   8   |    1680    |       0       |\n",
       "|  101930  |  1.0   |     0      |  0   |     3     |   11  |    3890    |      1530     |\n",
       "|   6819   |  2.0   |     0      |  0   |     3     |   7   |    1715    |       0       |\n",
       "|   9711   |  1.0   |     0      |  0   |     3     |   7   |    1060    |       0       |\n",
       "|   7470   |  1.0   |     0      |  0   |     3     |   7   |    1050    |      730      |\n",
       "|   6560   |  2.0   |     0      |  0   |     3     |   7   |    1890    |       0       |\n",
       "+----------+--------+------------+------+-----------+-------+------------+---------------+\n",
       "+----------+--------------+---------+---------+----------+---------------+-----+\n",
       "| yr_built | yr_renovated | zipcode |   lat   |   long   | sqft_living15 | ... |\n",
       "+----------+--------------+---------+---------+----------+---------------+-----+\n",
       "|   1955   |      0       |  98178  | 47.5112 | -122.257 |      1340     | ... |\n",
       "|   1951   |     1991     |  98125  |  47.721 | -122.319 |      1690     | ... |\n",
       "|   1933   |      0       |  98028  | 47.7379 | -122.233 |      2720     | ... |\n",
       "|   1965   |      0       |  98136  | 47.5208 | -122.393 |      1360     | ... |\n",
       "|   1987   |      0       |  98074  | 47.6168 | -122.045 |      1800     | ... |\n",
       "|   2001   |      0       |  98053  | 47.6561 | -122.005 |      4760     | ... |\n",
       "|   1995   |      0       |  98003  | 47.3097 | -122.327 |      2238     | ... |\n",
       "|   1963   |      0       |  98198  | 47.4095 | -122.315 |      1650     | ... |\n",
       "|   1960   |      0       |  98146  | 47.5123 | -122.337 |      1780     | ... |\n",
       "|   2003   |      0       |  98038  | 47.3684 | -122.031 |      2390     | ... |\n",
       "+----------+--------------+---------+---------+----------+---------------+-----+\n",
       "[21613 rows x 21 columns]\n",
       "Note: Only the head of the SFrame is printed.\n",
       "You can use print_rows(num_rows=m, num_columns=n) to print more rows and columns."
      ]
     },
     "execution_count": 5,
     "metadata": {},
     "output_type": "execute_result"
    }
   ],
   "source": [
    "sales"
   ]
  },
  {
   "cell_type": "markdown",
   "metadata": {},
   "source": [
    "#Exploring the data "
   ]
  },
  {
   "cell_type": "markdown",
   "metadata": {},
   "source": [
    "The house price in a town is correlated with the crime rate of that town. Low crime towns tend to be associated with higher house prices and vice versa."
   ]
  },
  {
   "cell_type": "code",
   "execution_count": 4,
   "metadata": {
    "collapsed": false
   },
   "outputs": [
    {
     "data": {
      "application/javascript": [
       "$(\"head\").append($(\"<link/>\").attr({\n",
       "  rel:  \"stylesheet\",\n",
       "  type: \"text/css\",\n",
       "  href: \"//cdnjs.cloudflare.com/ajax/libs/font-awesome/4.1.0/css/font-awesome.min.css\"\n",
       "}));\n",
       "$(\"head\").append($(\"<link/>\").attr({\n",
       "  rel:  \"stylesheet\",\n",
       "  type: \"text/css\",\n",
       "  href: \"https://static.turi.com/products/graphlab-create/2.1/canvas/css/canvas.css\"\n",
       "}));\n",
       "\n",
       "            (function(){\n",
       "\n",
       "                var e = null;\n",
       "                if (typeof element == 'undefined') {\n",
       "                    var scripts = document.getElementsByTagName('script');\n",
       "                    var thisScriptTag = scripts[scripts.length-1];\n",
       "                    var parentDiv = thisScriptTag.parentNode;\n",
       "                    e = document.createElement('div');\n",
       "                    parentDiv.appendChild(e);\n",
       "                } else {\n",
       "                    e = element[0];\n",
       "                }\n",
       "\n",
       "                if (typeof requirejs !== 'undefined') {\n",
       "                    // disable load timeout; ipython_app.js is large and can take a while to load.\n",
       "                    requirejs.config({waitSeconds: 0});\n",
       "                }\n",
       "\n",
       "                require(['https://static.turi.com/products/graphlab-create/2.1/canvas/js/ipython_app.js'], function(IPythonApp){\n",
       "                    var app = new IPythonApp();\n",
       "                    app.attachView('sframe','Plots', {\"selected_variable\": {\"name\": [\"sales\"], \"descriptives\": {\"rows\": 21613, \"columns\": 21}, \"view_component\": \"Plots\", \"view_file\": \"sframe\", \"view_params\": {\"y\": \"price\", \"x\": \"sqft_living\", \"columns\": [\"id\", \"date\", \"price\", \"bedrooms\", \"bathrooms\", \"sqft_living\", \"sqft_lot\", \"floors\", \"waterfront\", \"view\", \"condition\", \"grade\", \"sqft_above\", \"sqft_basement\", \"yr_built\", \"yr_renovated\", \"zipcode\", \"lat\", \"long\", \"sqft_living15\", \"sqft_lot15\"], \"view\": \"Scatter Plot\"}, \"view_components\": [\"Summary\", \"Table\", \"Bar Chart\", \"BoxWhisker Plot\", \"Line Chart\", \"Scatter Plot\", \"Heat Map\", \"Plots\"], \"type\": \"SFrame\", \"columns\": [{\"dtype\": \"int\", \"name\": \"id\"}, {\"dtype\": \"str\", \"name\": \"date\"}, {\"dtype\": \"float\", \"name\": \"price\"}, {\"dtype\": \"int\", \"name\": \"bedrooms\"}, {\"dtype\": \"float\", \"name\": \"bathrooms\"}, {\"dtype\": \"int\", \"name\": \"sqft_living\"}, {\"dtype\": \"int\", \"name\": \"sqft_lot\"}, {\"dtype\": \"float\", \"name\": \"floors\"}, {\"dtype\": \"int\", \"name\": \"waterfront\"}, {\"dtype\": \"int\", \"name\": \"view\"}, {\"dtype\": \"int\", \"name\": \"condition\"}, {\"dtype\": \"int\", \"name\": \"grade\"}, {\"dtype\": \"int\", \"name\": \"sqft_above\"}, {\"dtype\": \"int\", \"name\": \"sqft_basement\"}, {\"dtype\": \"int\", \"name\": \"yr_built\"}, {\"dtype\": \"int\", \"name\": \"yr_renovated\"}, {\"dtype\": \"int\", \"name\": \"zipcode\"}, {\"dtype\": \"float\", \"name\": \"lat\"}, {\"dtype\": \"float\", \"name\": \"long\"}, {\"dtype\": \"int\", \"name\": \"sqft_living15\"}, {\"dtype\": \"int\", \"name\": \"sqft_lot15\"}], \"column_identifiers\": [\"bathrooms\", \"sqft_living15\", \"sqft_above\", \"grade\", \"yr_built\", \"price\", \"bedrooms\", \"zipcode\", \"long\", \"id\", \"sqft_lot15\", \"sqft_living\", \"floors\", \"sqft_lot\", \"date\", \"waterfront\", \"sqft_basement\", \"yr_renovated\", \"lat\", \"condition\", \"view\"]}, \"complete\": 1, \"ipython\": true, \"progress\": 1.0, \"data\": [[910, 223000.0], [1300, 281000.0], [1280, 350000.0], [2720, 850000.0], [1730, 268000.0], [1340, 332000.0], [2980, 622500.0], [5510, 3800000.0], [1660, 285000.0], [1290, 205000.0], [2410, 608000.0], [1630, 339950.0], [880, 253000.0], [1040, 234000.0], [2303, 300000.0], [1070, 386950.0], [2810, 492000.0], [2120, 325000.0], [820, 532500.0], [2090, 300000.0], [1120, 442500.0], [1936, 338900.0], [2270, 285000.0], [1430, 478000.0], [4590, 3000000.0], [1660, 570000.0], [1950, 385000.0], [1750, 225000.0], [2200, 460000.0], [1800, 567000.0], [1440, 239950.0], [1910, 250000.0], [3500, 879950.0], [1090, 535000.0], [2830, 451000.0], [4860, 1680000.0], [1410, 405000.0], [2720, 460000.0], [1660, 254000.0], [1580, 265000.0], [2380, 332000.0], [920, 250000.0], [3595, 861990.0], [3490, 975000.0], [1240, 248500.0], [2450, 530000.0], [2600, 270000.0], [2290, 785000.0], [3100, 700000.0], [1500, 185000.0], [1520, 307300.0], [3470, 772000.0], [890, 150000.0], [1320, 352000.0], [840, 210000.0], [2090, 210000.0], [980, 334900.0], [1250, 275000.0], [2290, 449999.0], [1850, 430000.0], [3370, 405000.0], [2890, 898500.0], [2519, 505000.0], [1720, 375000.0], [2200, 315000.0], [1700, 347950.0], [1280, 281000.0], [2200, 353000.0], [1710, 362500.0], [1730, 300000.0], [3360, 850000.0], [3510, 1750000.0], [2090, 355900.0], [1610, 399950.0], [1440, 509990.0], [2960, 472500.0], [2210, 314000.0], [1900, 340000.0], [2130, 671500.0], [1000, 329950.0], [1930, 325000.0], [3630, 490000.0], [1880, 410000.0], [3420, 965000.0], [2490, 527900.0], [1500, 525000.0], [1670, 239950.0], [1530, 450000.0], [880, 427550.0], [1983, 345000.0], [1530, 419950.0], [1470, 254600.0], [2910, 550000.0], [3730, 925000.0], [1300, 257500.0], [870, 313000.0], [2390, 623000.0], [1450, 265000.0], [1740, 554950.0], [1860, 217000.0], [2630, 610000.0], [3090, 751000.0], [1200, 222400.0], [1400, 395000.0], [980, 430000.0], [2300, 740000.0], [1400, 337000.0], [1330, 248000.0], [3140, 680000.0], [1090, 455000.0], [1610, 499000.0], [1450, 650000.0], [1600, 214000.0], [1960, 415000.0], [1660, 412000.0], [1530, 500000.0], [1390, 258000.0], [880, 205425.0], [5540, 2630000.0], [1940, 488000.0], [2400, 660000.0], [2605, 1017000.0], [1300, 676500.0], [1930, 631000.0], [1500, 262500.0], [1790, 225000.0], [2320, 400000.0], [2060, 499950.0], [2180, 490000.0], [2680, 653000.0], [1370, 235000.0], [2390, 420000.0], [3950, 784000.0], [1750, 315000.0], [3200, 935100.0], [1840, 285000.0], [1230, 554663.0], [1560, 399950.0], [1400, 275000.0], [1490, 520000.0], [2900, 926500.0], [2020, 490000.0], [2070, 312000.0], [1730, 800000.0], [2320, 475000.0], [800, 285000.0], [1440, 440000.0], [1950, 510000.0], [1921, 245000.0], [2120, 693000.0], [1330, 375000.0], [2730, 770000.0], [1340, 324950.0], [2990, 525000.0], [1590, 305000.0], [1420, 336500.0], [2240, 287500.0], [3400, 1050000.0], [3236, 450000.0], [2540, 485000.0], [1670, 696000.0], [1050, 285000.0], [1770, 439950.0], [2320, 364808.0], [3030, 768000.0], [1700, 575000.0], [1530, 529000.0], [1100, 224000.0], [2000, 560000.0], [1010, 185000.0], [1060, 275000.0], [1820, 299500.0], [2220, 607500.0], [2630, 710000.0], [2670, 865000.0], [1120, 440000.0], [970, 302860.0], [1450, 274000.0], [2770, 679000.0], [2520, 392400.0], [2060, 343888.0], [2190, 297500.0], [2040, 480000.0], [3630, 633000.0], [2580, 326000.0], [1820, 320000.0], [1850, 475000.0], [3690, 780000.0], [2740, 395000.0], [1520, 619950.0], [1930, 570000.0], [1640, 1155000.0], [1390, 261350.0], [1060, 340000.0], [930, 287000.0], [2480, 360000.0], [1430, 305000.0], [1780, 459000.0], [1340, 265000.0], [2200, 698000.0], [1150, 383000.0], [1470, 344950.0], [1620, 327000.0], [1300, 226500.0], [2090, 258000.0], [1610, 505000.0], [1700, 681000.0], [2380, 812000.0], [1070, 462550.0], [1510, 327000.0], [2930, 460000.0], [1610, 415000.0], [1780, 615000.0], [3500, 632500.0], [560, 106000.0], [2550, 669888.0], [1300, 595000.0], [1260, 785000.0], [2070, 770000.0], [1110, 410500.0], [2140, 250750.0], [2130, 450000.0], [2110, 305000.0], [1570, 478000.0], [2850, 1275000.0], [1430, 580000.0], [1570, 273950.0], [2510, 410000.0], [1280, 206000.0], [1445, 387000.0], [1960, 367500.0], [1890, 339950.0], [2120, 615000.0], [2970, 499500.0], [2560, 390000.0], [1560, 509000.0], [800, 325000.0], [2740, 1039000.0], [1320, 259000.0], [3210, 750000.0], [1760, 405000.0], [1780, 395000.0], [1460, 285000.0], [2240, 375000.0], [1010, 325000.0], [2605, 789800.0], [3280, 750000.0], [1180, 350000.0], [2710, 502700.0], [1280, 422250.0], [1540, 375000.0], [4590, 1148000.0], [1790, 695000.0], [1400, 349500.0], [1730, 245000.0], [3030, 321000.0], [3950, 914500.0], [1080, 219000.0], [3070, 825000.0], [1100, 209950.0], [870, 217000.0], [1970, 379950.0], [3280, 645000.0], [2300, 299000.0], [4660, 2147500.0], [1380, 350000.0], [2420, 597400.0], [1070, 415000.0], [1910, 585000.0], [1820, 275000.0], [1660, 460000.0], [2210, 516000.0], [1940, 300000.0], [1300, 236000.0], [1570, 560000.0], [1670, 533000.0], [2500, 587500.0], [1358, 317000.0], [920, 237000.0], [1020, 242500.0], [2050, 403900.0], [1370, 460000.0], [2690, 515000.0], [1880, 550000.0], [1790, 416000.0], [1180, 311000.0], [990, 335000.0], [2160, 385000.0], [2970, 866800.0], [1300, 259500.0], [1080, 345000.0], [1560, 279000.0], [2000, 440000.0], [2880, 1015000.0], [1870, 475000.0], [960, 305000.0], [940, 163500.0], [1480, 235000.0], [1610, 415000.0], [2330, 535000.0], [3370, 690000.0], [2290, 365000.0], [1820, 287000.0], [1660, 605000.0], [2380, 319000.0], [1060, 275053.0], [1980, 545800.0], [1210, 437500.0], [2160, 653000.0], [4250, 665000.0], [1150, 489000.0], [1180, 273000.0], [910, 405000.0], [1280, 386500.0], [2330, 362500.0], [2050, 745000.0], [2590, 487000.0], [2390, 640000.0], [1670, 485000.0], [1580, 210000.0], [1510, 449000.0], [1320, 232500.0], [1940, 380000.0], [1660, 535000.0], [2510, 595000.0], [1420, 550000.0], [4740, 1150000.0], [4130, 2750000.0], [1230, 322000.0], [1260, 412000.0], [910, 165000.0], [3980, 810000.0], [1860, 326995.0], [1700, 455000.0], [2500, 1700000.0], [3050, 760000.0], [1780, 318500.0], [2590, 250000.0], [2760, 614000.0], [2860, 499950.0], [1420, 294000.0], [3100, 975000.0], [1270, 346000.0], [1410, 440000.0], [4730, 2453500.0], [420, 229050.0], [2570, 561000.0], [2850, 608500.0], [2070, 653450.0], [2530, 625000.0], [3540, 899000.0], [3730, 2535000.0], [1790, 414000.0], [1260, 630000.0], [1670, 325000.0], [2710, 600000.0], [2060, 815241.0], [720, 330000.0], [1150, 825000.0], [2440, 679900.0], [2680, 475000.0], [2320, 900000.0], [1540, 449950.0], [2590, 620000.0], [4280, 1928000.0], [1470, 401000.0], [2220, 771000.0], [2840, 1085000.0], [2250, 572650.0], [1120, 311000.0], [2190, 340000.0], [2250, 600000.0], [1960, 285500.0], [2400, 569000.0], [1840, 550000.0], [1530, 245000.0], [2300, 475000.0], [2030, 556300.0], [1450, 585000.0], [1300, 435000.0], [2470, 360000.0], [1670, 373000.0], [1740, 445000.0], [1820, 265000.0], [3060, 864000.0], [1620, 460000.0], [2350, 291000.0], [2230, 549950.0], [1830, 275000.0], [1530, 255000.0], [2270, 624900.0], [1980, 490000.0], [2910, 530000.0], [1660, 450000.0], [3840, 1118000.0], [1680, 285000.0], [2680, 777000.0], [1900, 257000.0], [1380, 253750.0], [3020, 465000.0], [1410, 700000.0], [1970, 420000.0], [1660, 241000.0], [1990, 779000.0], [1980, 640000.0], [4000, 688000.0], [2180, 359000.0], [2700, 674725.0], [2050, 613200.0], [2590, 690000.0], [1480, 243000.0], [1280, 165000.0], [2070, 518000.0], [2020, 633000.0], [1720, 255000.0], [2040, 490000.0], [1550, 458000.0], [3010, 998160.0], [2030, 685000.0], [3010, 785000.0], [920, 255000.0], [1100, 225800.0], [1900, 649950.0], [1580, 400000.0], [1470, 248000.0], [1900, 470000.0], [2420, 380000.0], [4000, 739000.0], [2000, 225000.0], [2200, 365000.0], [2290, 328500.0], [1590, 299000.0], [2190, 625000.0], [840, 209000.0], [5230, 1350000.0], [2420, 282000.0], [720, 150000.0], [1430, 518000.0], [2280, 750000.0], [1390, 190000.0], [1530, 235000.0], [1090, 152000.0], [1990, 639000.0], [1250, 350000.0], [960, 242000.0], [1910, 260000.0], [3620, 480000.0], [810, 510000.0], [1200, 130000.0], [1970, 475000.0], [940, 350000.0], [2800, 490000.0], [3273, 485000.0], [3030, 455000.0], [3090, 1629000.0], [1990, 318200.0], [1170, 530000.0], [1430, 465000.0], [1190, 375000.0], [1520, 320000.0], [1410, 274800.0], [2550, 630000.0], [1510, 230000.0], [1090, 382500.0], [3180, 895950.0], [2620, 499990.0], [2210, 733000.0], [1610, 450000.0], [1280, 368000.0], [910, 301000.0], [2940, 1010000.0], [1990, 625000.0], [740, 235750.0], [2730, 612500.0], [1920, 625000.0], [1220, 765000.0], [1480, 315000.0], [2760, 641000.0], [1300, 417000.0], [1780, 443000.0], [13540, 2280000.0], [2095, 292500.0], [3470, 672500.0], [1300, 230000.0], [4860, 1385000.0], [4250, 465000.0], [790, 90000.0], [2510, 319000.0], [2840, 585000.0], [1650, 402500.0], [800, 335950.0], [740, 157500.0], [2000, 275000.0], [1280, 355000.0], [1510, 397500.0], [1200, 178500.0], [1260, 618000.0], [1400, 386500.0], [970, 155000.0], [1220, 555950.0], [1020, 160000.0], [2520, 508500.0], [1980, 659000.0], [1120, 256500.0], [1150, 599950.0], [2690, 460000.0], [1840, 380000.0], [1600, 345000.0], [670, 245000.0], [2410, 555000.0], [2000, 334000.0], [3880, 620000.0], [1790, 317000.0], [1070, 256950.0], [2300, 579000.0], [1270, 367500.0], [2120, 489000.0], [2280, 312500.0], [3480, 810000.0], [2300, 510000.0], [930, 210000.0], [1760, 690000.0], [2080, 506950.0], [5050, 2320000.0], [1730, 459000.0], [1400, 217000.0], [1670, 268500.0], [2420, 365000.0], [1440, 328000.0], [700, 330000.0], [1260, 312620.0], [3340, 485000.0], [1670, 612125.0], [670, 175000.0], [2360, 600000.0], [2040, 355000.0], [1600, 370000.0], [3390, 780000.0], [870, 382000.0], [2990, 514500.0], [1780, 395000.0], [1920, 495000.0], [1290, 288790.0], [1460, 449000.0], [3330, 760000.0], [1230, 415000.0], [1680, 469000.0], [2080, 825000.0], [1700, 520000.0], [4490, 1680000.0], [2400, 510000.0], [1300, 369500.0], [1690, 265000.0], [7080, 4000000.0], [1860, 380000.0], [840, 151100.0], [1220, 253500.0], [1370, 388000.0], [1310, 370000.0], [1650, 643500.0], [2200, 360000.0], [1480, 450000.0], [2960, 750000.0], [1420, 364000.0], [1530, 337500.0], [2020, 319000.0], [1870, 502000.0], [2075, 433200.0], [1610, 450000.0], [2130, 515000.0], [1280, 232000.0], [1640, 375000.0], [2120, 525000.0], [1200, 225205.0], [1940, 401000.0], [2000, 465000.0], [2230, 740000.0], [2540, 760250.0], [3240, 1288000.0], [1720, 274500.0], [1150, 254500.0], [1590, 210000.0], [1710, 385000.0], [1880, 515000.0], [1200, 195000.0], [1160, 312000.0], [4630, 1425000.0], [1960, 564000.0], [1340, 339950.0], [1400, 432000.0], [1620, 395000.0], [2340, 569500.0], [2770, 390000.0], [1340, 206135.0], [1840, 360000.0], [1550, 300000.0], [2240, 790000.0], [1620, 327000.0], [2590, 479000.0], [1520, 450000.0], [980, 393000.0], [2470, 618000.0], [2370, 545000.0], [1480, 501000.0], [1880, 449950.0], [3170, 1125000.0], [2800, 650000.0], [3600, 461000.0], [2410, 758000.0], [2020, 490000.0], [2240, 313500.0], [2280, 1325000.0], [3910, 1999000.0], [3130, 302300.0], [3840, 840000.0], [1460, 540000.0], [2400, 406550.0], [3220, 875000.0], [3070, 1295000.0], [1240, 900000.0], [1090, 240000.0], [2810, 812500.0], [1890, 325000.0], [2340, 560000.0], [2470, 350000.0], [2217, 275000.0], [1970, 315000.0], [3740, 1080000.0], [4300, 2500000.0], [1490, 320000.0], [960, 218000.0], [1690, 482500.0], [2930, 549950.0], [960, 234000.0], [2570, 356500.0], [3000, 680000.0], [2580, 604000.0], [2400, 499000.0], [2520, 420000.0], [790, 285000.0], [2400, 387500.0], [1960, 560000.0], [1470, 249900.0], [1260, 329950.0], [2260, 605000.0], [1520, 375000.0], [1170, 760000.0], [2610, 535000.0], [1500, 489000.0], [1290, 237000.0], [2050, 535000.0], [2290, 430000.0], [1080, 203000.0], [2350, 400000.0], [2580, 481000.0], [2610, 350000.0], [2790, 459000.0], [1100, 225000.0], [2620, 321500.0], [1250, 888000.0], [2750, 840000.0], [1780, 350000.0], [1610, 390000.0], [1960, 182000.0], [1700, 539000.0], [1700, 445000.0], [2230, 736500.0], [2030, 435000.0], [1600, 260000.0], [1830, 499950.0], [1910, 607000.0], [2650, 580000.0], [2510, 664000.0], [3915, 963990.0], [3610, 875909.0], [2160, 530000.0], [1960, 403000.0], [1608, 279950.0], [2780, 560000.0], [1310, 553000.0], [1910, 515000.0], [1390, 350000.0], [3690, 575000.0], [2380, 413000.0], [1310, 600000.0], [1290, 658000.0], [2440, 576000.0], [2320, 470000.0], [3180, 440000.0], [1790, 272000.0], [1830, 373000.0], [2130, 593450.0], [1430, 462600.0], [1610, 225000.0], [2770, 575000.0], [2050, 760000.0], [1410, 271920.0], [1040, 160000.0], [1934, 280000.0], [2810, 747500.0], [1670, 310000.0], [820, 195000.0], [4400, 1800000.0], [2470, 338000.0], [1200, 420000.0], [1570, 281700.0], [1760, 579000.0], [2800, 569500.0], [2040, 335000.0], [980, 657500.0], [2180, 440000.0], [2100, 990400.0], [2280, 535000.0], [1990, 545000.0], [1250, 350000.0], [4260, 1065000.0], [1010, 405500.0], [1510, 535000.0], [1350, 400000.0], [1430, 270000.0], [1800, 300000.0], [1360, 197000.0], [1280, 579000.0], [3160, 579000.0], [1460, 600000.0], [1090, 265000.0], [1440, 210000.0], [960, 280000.0], [820, 207000.0], [1880, 616500.0], [1630, 464000.0], [2700, 470000.0], [3300, 729000.0], [1260, 354000.0], [2340, 305000.0], [2580, 898000.0], [3030, 794500.0], [1550, 545000.0], [2660, 287000.0], [1810, 520000.0], [1760, 388000.0], [1040, 550000.0], [2570, 329000.0], [1530, 299800.0], [2940, 837000.0], [3410, 750000.0], [1140, 340000.0], [4890, 1780000.0], [1770, 375000.0], [1390, 610000.0], [1960, 275000.0], [1740, 349000.0], [830, 160000.0], [1880, 530200.0], [3450, 2225000.0], [1480, 320000.0], [2810, 1565000.0], [2950, 660500.0], [1350, 251000.0], [1510, 489000.0], [1450, 320000.0], [2140, 302000.0], [2480, 585000.0], [1980, 405000.0], [720, 403000.0], [3960, 1180000.0], [1550, 426000.0], [1100, 260000.0], [1570, 371000.0], [700, 119900.0], [2220, 615000.0], [1130, 341500.0], [840, 457500.0], [3320, 665000.0], [3160, 840000.0], [910, 515000.0], [1640, 575950.0], [2100, 380000.0], [2040, 346950.0], [4860, 2250000.0], [4070, 2298000.0], [1980, 213000.0], [1100, 303000.0], [1760, 444950.0], [2370, 715000.0], [3360, 738515.0], [1820, 525000.0], [2100, 530000.0], [1440, 232000.0], [2490, 360000.0], [2060, 244615.0], [2100, 280000.0], [1500, 405000.0], [1870, 565000.0], [1580, 275000.0], [2430, 412950.0], [780, 360000.0], [1050, 198500.0], [1210, 353000.0], [1350, 259950.0], [870, 475000.0], [2000, 513000.0], [1720, 313100.0], [1620, 842000.0], [2080, 385000.0], [1489, 265000.0], [1790, 525000.0], [3650, 1575000.0], [3620, 394000.0], [1950, 361000.0], [1250, 345000.0], [2420, 370000.0], [2430, 384200.0], [1520, 535000.0], [1840, 285000.0], [2350, 692000.0], [3290, 783350.0], [1100, 199990.0], [2760, 682000.0], [2650, 731500.0], [1400, 214950.0], [3680, 788000.0], [2300, 665000.0], [1300, 455000.0], [1770, 420000.0], [1900, 770000.0], [1220, 447000.0], [1300, 175000.0], [2270, 735000.0], [2230, 1003000.0], [2540, 359950.0], [1900, 530000.0], [2020, 465000.0], [5720, 1325000.0], [2110, 435000.0], [1840, 248000.0], [2960, 1340000.0], [1140, 517000.0], [2815, 491000.0], [2470, 332000.0], [1900, 335000.0], [3680, 755000.0], [1570, 330000.0], [1500, 513000.0], [2000, 456500.0], [2240, 500000.0], [1280, 350000.0], [2540, 510000.0], [1790, 240000.0], [3430, 780000.0], [2220, 862000.0], [1840, 590000.0], [880, 196000.0], [1110, 223000.0], [2660, 599950.0], [2000, 538000.0], [2250, 998800.0], [490, 150000.0], [3890, 1125000.0], [2000, 464000.0], [1670, 483500.0], [3010, 775000.0], [5440, 1769000.0], [1120, 227950.0], [2470, 352000.0], [1270, 380500.0], [1940, 299000.0], [1180, 355000.0], [2760, 830000.0], [2600, 610000.0], [3000, 500000.0], [2300, 683000.0], [1800, 425000.0], [2010, 774000.0], [1410, 625000.0], [750, 295000.0], [1010, 375000.0], [2550, 369000.0], [3220, 1250000.0], [2470, 1205000.0], [2547, 392440.0], [2260, 350000.0], [2680, 721000.0], [2030, 700000.0], [1320, 150000.0], [1808, 270000.0], [1530, 360000.0], [2040, 452500.0], [1590, 485000.0], [3270, 357500.0], [1480, 224000.0], [2090, 310000.0], [2910, 395000.0], [900, 473000.0], [1990, 180000.0], [1120, 445000.0], [1600, 270000.0], [1060, 295000.0], [980, 134000.0], [2290, 585000.0], [1830, 383000.0], [2300, 900000.0], [2510, 860000.0], [2840, 790000.0], [1540, 499000.0], [1370, 406000.0], [2238, 330000.0], [2790, 1298000.0], [1690, 215000.0], [1840, 480000.0], [1290, 441000.0], [2480, 920000.0], [2700, 1200000.0], [3270, 560000.0], [1800, 362500.0], [1500, 240000.0], [1570, 570000.0], [3266, 418000.0], [2710, 600000.0], [1710, 430000.0], [3281, 471835.0], [2330, 473975.0], [2320, 384000.0], [2070, 500000.0], [1580, 333000.0], [3170, 820000.0], [2250, 342000.0], [2630, 270000.0], [1370, 359000.0], [2140, 615750.0], [1220, 672000.0], [1810, 1247000.0], [1770, 327500.0], [3560, 1160000.0], [3920, 1000000.0], [1810, 625000.0], [1910, 175000.0], [1150, 463000.0], [1570, 284200.0], [2880, 751000.0], [2230, 600000.0], [5550, 3710000.0], [2210, 432900.0], [1240, 625000.0], [3020, 1185000.0], [2150, 419000.0], [1810, 280000.0], [1550, 229900.0], [1450, 450000.0], [1380, 345000.0], [4070, 1480000.0], [3120, 760000.0], [1300, 287000.0], [3530, 910000.0], [2110, 460000.0], [2620, 922000.0], [2390, 363000.0], [2090, 299500.0], [1040, 375000.0], [1778, 435000.0], [850, 308500.0], [3290, 602000.0], [1910, 395000.0], [1520, 210000.0], [1670, 520000.0], [2670, 370000.0], [1088, 238000.0], [1400, 265000.0], [2510, 535000.0], [2600, 452000.0], [1470, 419000.0], [1770, 593567.0], [1230, 479000.0], [2390, 307000.0], [2790, 765000.0], [2300, 738500.0], [2320, 705000.0], [2280, 950000.0], [1280, 216000.0], [1750, 330000.0], [1540, 270000.0], [2560, 1085000.0], [3570, 965000.0], [2110, 565000.0], [2840, 779950.0], [1030, 718000.0], [2130, 283000.0], [2180, 825000.0], [1700, 262000.0], [1120, 363000.0], [1820, 429900.0], [1950, 430000.0], [3930, 1250000.0], [4210, 1905000.0], [1650, 350000.0], [2190, 349000.0], [3440, 554000.0], [850, 553500.0], [1580, 617450.0], [1260, 425000.0]], \"columns\": [{\"dtype\": \"int\", \"name\": \"id\"}, {\"dtype\": \"str\", \"name\": \"date\"}, {\"dtype\": \"float\", \"name\": \"price\"}, {\"dtype\": \"int\", \"name\": \"bedrooms\"}, {\"dtype\": \"float\", \"name\": \"bathrooms\"}, {\"dtype\": \"int\", \"name\": \"sqft_living\"}, {\"dtype\": \"int\", \"name\": \"sqft_lot\"}, {\"dtype\": \"float\", \"name\": \"floors\"}, {\"dtype\": \"int\", \"name\": \"waterfront\"}, {\"dtype\": \"int\", \"name\": \"view\"}, {\"dtype\": \"int\", \"name\": \"condition\"}, {\"dtype\": \"int\", \"name\": \"grade\"}, {\"dtype\": \"int\", \"name\": \"sqft_above\"}, {\"dtype\": \"int\", \"name\": \"sqft_basement\"}, {\"dtype\": \"int\", \"name\": \"yr_built\"}, {\"dtype\": \"int\", \"name\": \"yr_renovated\"}, {\"dtype\": \"int\", \"name\": \"zipcode\"}, {\"dtype\": \"float\", \"name\": \"lat\"}, {\"dtype\": \"float\", \"name\": \"long\"}, {\"dtype\": \"int\", \"name\": \"sqft_living15\"}, {\"dtype\": \"int\", \"name\": \"sqft_lot15\"}]}, e);\n",
       "                });\n",
       "            })();\n",
       "        "
      ]
     },
     "metadata": {},
     "output_type": "display_data"
    }
   ],
   "source": [
    "graphlab.canvas.set_target('ipynb')\n",
    "sales.show(view=\"Scatter Plot\", x=\"sqft_living\", y=\"price\")"
   ]
  },
  {
   "cell_type": "markdown",
   "metadata": {},
   "source": [
    "#Fit the regression model using crime as the feature"
   ]
  },
  {
   "cell_type": "code",
   "execution_count": 5,
   "metadata": {
    "collapsed": true
   },
   "outputs": [],
   "source": [
    "train_data,test_data = sales.random_split(.8,seed=0)"
   ]
  },
  {
   "cell_type": "code",
   "execution_count": 24,
   "metadata": {
    "collapsed": false
   },
   "outputs": [],
   "source": [
    "def s_l_r(input_feature, output):\n",
    "    m_x = train_data[input_feature].sum()/len(train_data)\n",
    "    m_y = train_data[output].sum()/len(train_data)\n",
    "    x_y = (train_data[input_feature] * train_data[output])\n",
    "    m_x_y = sum(x_y) / len(train_data)\n",
    "    x_x = (train_data[input_feature] * train_data[input_feature]) \n",
    "    m_x_x = sum(x_x) / len(train_data)\n",
    "    num = m_x_y - (m_x*m_y)\n",
    "    den = m_x_x - (m_x**2)\n",
    "    slope = num/den\n",
    "    intercept = m_y - (slope * m_x)\n",
    "    return(slope,intercept)\n",
    "    "
   ]
  },
  {
   "cell_type": "code",
   "execution_count": 25,
   "metadata": {
    "collapsed": false
   },
   "outputs": [],
   "source": [
    "model = s_l_r('sqft_living','price')"
   ]
  },
  {
   "cell_type": "code",
   "execution_count": 26,
   "metadata": {
    "collapsed": false
   },
   "outputs": [
    {
     "data": {
      "text/plain": [
       "(281.93696028190055, -47062.24945262098)"
      ]
     },
     "execution_count": 26,
     "metadata": {},
     "output_type": "execute_result"
    }
   ],
   "source": [
    "model"
   ]
  },
  {
   "cell_type": "markdown",
   "metadata": {},
   "source": [
    "#Let's see what our fit looks like"
   ]
  },
  {
   "cell_type": "code",
   "execution_count": 39,
   "metadata": {
    "collapsed": false
   },
   "outputs": [],
   "source": [
    "y = (model[0] * 2650) + model[1]"
   ]
  },
  {
   "cell_type": "code",
   "execution_count": 40,
   "metadata": {
    "collapsed": false
   },
   "outputs": [
    {
     "data": {
      "text/plain": [
       "700070.6952944155"
      ]
     },
     "execution_count": 40,
     "metadata": {},
     "output_type": "execute_result"
    }
   ],
   "source": [
    "y"
   ]
  },
  {
   "cell_type": "code",
   "execution_count": 41,
   "metadata": {
    "collapsed": false
   },
   "outputs": [
    {
     "data": {
      "text/plain": [
       "700070.7"
      ]
     },
     "execution_count": 41,
     "metadata": {},
     "output_type": "execute_result"
    }
   ],
   "source": [
    "round(y,2)"
   ]
  },
  {
   "cell_type": "code",
   "execution_count": 31,
   "metadata": {
    "collapsed": true
   },
   "outputs": [],
   "source": [
    "train_data['predicted_price'] = (model[0] * train_data['sqft_living']) + model[1]"
   ]
  },
  {
   "cell_type": "code",
   "execution_count": 33,
   "metadata": {
    "collapsed": false
   },
   "outputs": [],
   "source": [
    "x = (train_data['price'] - train_data['predicted_price'])**2"
   ]
  },
  {
   "cell_type": "code",
   "execution_count": 34,
   "metadata": {
    "collapsed": false
   },
   "outputs": [
    {
     "data": {
      "text/plain": [
       "1201918362448803.2"
      ]
     },
     "execution_count": 34,
     "metadata": {},
     "output_type": "execute_result"
    }
   ],
   "source": [
    "sum(x)"
   ]
  },
  {
   "cell_type": "code",
   "execution_count": 37,
   "metadata": {
    "collapsed": false
   },
   "outputs": [
    {
     "data": {
      "text/plain": [
       "3004.44"
      ]
     },
     "execution_count": 37,
     "metadata": {},
     "output_type": "execute_result"
    }
   ],
   "source": [
    "round((800000 - model[1])/model[0],2)"
   ]
  },
  {
   "cell_type": "code",
   "execution_count": 47,
   "metadata": {
    "collapsed": false
   },
   "outputs": [
    {
     "data": {
      "application/javascript": [
       "$(\"head\").append($(\"<link/>\").attr({\n",
       "  rel:  \"stylesheet\",\n",
       "  type: \"text/css\",\n",
       "  href: \"//cdnjs.cloudflare.com/ajax/libs/font-awesome/4.1.0/css/font-awesome.min.css\"\n",
       "}));\n",
       "$(\"head\").append($(\"<link/>\").attr({\n",
       "  rel:  \"stylesheet\",\n",
       "  type: \"text/css\",\n",
       "  href: \"https://static.turi.com/products/graphlab-create/2.1/canvas/css/canvas.css\"\n",
       "}));\n",
       "\n",
       "            (function(){\n",
       "\n",
       "                var e = null;\n",
       "                if (typeof element == 'undefined') {\n",
       "                    var scripts = document.getElementsByTagName('script');\n",
       "                    var thisScriptTag = scripts[scripts.length-1];\n",
       "                    var parentDiv = thisScriptTag.parentNode;\n",
       "                    e = document.createElement('div');\n",
       "                    parentDiv.appendChild(e);\n",
       "                } else {\n",
       "                    e = element[0];\n",
       "                }\n",
       "\n",
       "                if (typeof requirejs !== 'undefined') {\n",
       "                    // disable load timeout; ipython_app.js is large and can take a while to load.\n",
       "                    requirejs.config({waitSeconds: 0});\n",
       "                }\n",
       "\n",
       "                require(['https://static.turi.com/products/graphlab-create/2.1/canvas/js/ipython_app.js'], function(IPythonApp){\n",
       "                    var app = new IPythonApp();\n",
       "                    app.attachView('sframe','Plots', {\"selected_variable\": {\"name\": [\"test_data\"], \"descriptives\": {\"rows\": 4229, \"columns\": 21}, \"view_component\": \"Plots\", \"view_file\": \"sframe\", \"view_params\": {\"y\": \"price\", \"x\": \"sqft_living\", \"columns\": [\"id\", \"date\", \"price\", \"bedrooms\", \"bathrooms\", \"sqft_living\", \"sqft_lot\", \"floors\", \"waterfront\", \"view\", \"condition\", \"grade\", \"sqft_above\", \"sqft_basement\", \"yr_built\", \"yr_renovated\", \"zipcode\", \"lat\", \"long\", \"sqft_living15\", \"sqft_lot15\"], \"view\": \"Scatter Plot\"}, \"view_components\": [\"Summary\", \"Table\", \"Bar Chart\", \"BoxWhisker Plot\", \"Line Chart\", \"Scatter Plot\", \"Heat Map\", \"Plots\"], \"type\": \"SFrame\", \"columns\": [{\"dtype\": \"int\", \"name\": \"id\"}, {\"dtype\": \"str\", \"name\": \"date\"}, {\"dtype\": \"float\", \"name\": \"price\"}, {\"dtype\": \"int\", \"name\": \"bedrooms\"}, {\"dtype\": \"float\", \"name\": \"bathrooms\"}, {\"dtype\": \"int\", \"name\": \"sqft_living\"}, {\"dtype\": \"int\", \"name\": \"sqft_lot\"}, {\"dtype\": \"float\", \"name\": \"floors\"}, {\"dtype\": \"int\", \"name\": \"waterfront\"}, {\"dtype\": \"int\", \"name\": \"view\"}, {\"dtype\": \"int\", \"name\": \"condition\"}, {\"dtype\": \"int\", \"name\": \"grade\"}, {\"dtype\": \"int\", \"name\": \"sqft_above\"}, {\"dtype\": \"int\", \"name\": \"sqft_basement\"}, {\"dtype\": \"int\", \"name\": \"yr_built\"}, {\"dtype\": \"int\", \"name\": \"yr_renovated\"}, {\"dtype\": \"int\", \"name\": \"zipcode\"}, {\"dtype\": \"float\", \"name\": \"lat\"}, {\"dtype\": \"float\", \"name\": \"long\"}, {\"dtype\": \"int\", \"name\": \"sqft_living15\"}, {\"dtype\": \"int\", \"name\": \"sqft_lot15\"}], \"column_identifiers\": [\"bathrooms\", \"sqft_living15\", \"sqft_above\", \"grade\", \"yr_built\", \"price\", \"bedrooms\", \"zipcode\", \"long\", \"id\", \"sqft_lot15\", \"sqft_living\", \"floors\", \"sqft_lot\", \"date\", \"waterfront\", \"sqft_basement\", \"yr_renovated\", \"lat\", \"condition\", \"view\"]}, \"complete\": 1, \"ipython\": true, \"progress\": 1.0, \"data\": [[2770, 820000.0], [1180, 299000.0], [4030, 1312000.0], [2320, 580500.0], [1790, 509900.0], [1270, 599380.0], [1365, 530000.0], [1070, 455000.0], [1260, 289000.0], [1090, 345000.0], [1080, 205000.0], [920, 555500.0], [1360, 520000.0], [2740, 657000.0], [1240, 277700.0], [5000, 1250000.0], [1740, 399000.0], [2510, 400000.0], [2820, 527700.0], [2470, 773000.0], [1090, 289950.0], [1790, 615000.0], [2420, 380000.0], [1300, 560000.0], [2680, 807100.0], [2400, 420000.0], [3880, 917500.0], [1250, 485000.0], [1670, 260000.0], [950, 230000.0], [2009, 303210.0], [2480, 840000.0], [1200, 546000.0], [2550, 799000.0], [1230, 325000.0], [1510, 479950.0], [2540, 800000.0], [3760, 1025000.0], [3650, 2400000.0], [2570, 654000.0], [2100, 635000.0], [760, 369900.0], [1140, 425000.0], [2600, 304900.0], [1240, 415500.0], [2430, 723000.0], [2480, 630000.0], [2420, 330000.0], [1650, 472500.0], [4670, 1415000.0], [960, 225000.0], [2490, 590000.0], [1850, 329000.0], [2090, 349950.0], [1910, 435000.0], [1700, 400000.0], [840, 210000.0], [2470, 597000.0], [2890, 655000.0], [1070, 640000.0], [2577, 495000.0], [1460, 400000.0], [1420, 265000.0], [3130, 598000.0], [2580, 552250.0], [1390, 206600.0], [560, 299000.0], [2270, 855000.0], [990, 437500.0], [2910, 870000.0], [3040, 795000.0], [690, 260000.0], [1480, 650000.0], [1660, 484000.0], [1640, 450000.0], [2280, 750000.0], [2770, 700000.0], [1700, 545000.0], [1570, 281700.0], [1680, 629950.0], [2720, 530000.0], [1810, 626000.0], [1050, 310000.0], [1710, 368000.0], [1500, 240000.0], [2280, 712500.0], [2200, 423000.0], [390, 245000.0], [1010, 230000.0], [4040, 988000.0], [2320, 370000.0], [1250, 350000.0], [3070, 550000.0], [1070, 361500.0], [1240, 255000.0], [2150, 607000.0], [960, 180000.0], [1980, 725000.0], [1610, 290900.0], [630, 315000.0], [4860, 1385000.0], [1220, 222000.0], [2020, 1400000.0], [1610, 269000.0], [3820, 1240000.0], [710, 264000.0], [1540, 582500.0], [1330, 290000.0], [4760, 2250000.0], [2280, 626100.0], [910, 301000.0], [1120, 380000.0], [1610, 358000.0], [2190, 418500.0], [5403, 2125000.0], [1500, 170000.0], [1680, 840000.0], [1100, 505000.0], [1540, 439950.0], [1180, 610000.0], [2507, 551870.0], [1830, 338900.0], [1130, 315450.0], [2130, 730000.0], [3980, 1765000.0], [1470, 180000.0], [2510, 800000.0], [890, 220000.0], [1360, 244000.0], [2330, 473975.0], [1870, 230000.0], [1780, 472000.0], [1830, 460000.0], [3930, 1485000.0], [1360, 425000.0], [2020, 521000.0], [3180, 1000000.0], [860, 160000.0], [1780, 250000.0], [2530, 785950.0], [1108, 369500.0], [3240, 635700.0], [1220, 387500.0], [1490, 700000.0], [1820, 318400.0], [1200, 219000.0], [1660, 675000.0], [1010, 405500.0], [1860, 380000.0], [1110, 345000.0], [1780, 660000.0], [1050, 245000.0], [810, 505000.0], [1410, 541000.0], [1970, 501000.0], [2156, 347500.0], [1920, 605000.0], [1445, 415000.0], [2420, 771000.0], [800, 191000.0], [3950, 1310000.0], [2830, 779000.0], [1220, 526000.0], [3010, 785000.0], [2014, 321000.0], [2280, 539500.0], [3560, 907687.0], [1960, 234500.0], [1450, 405000.0], [1330, 249950.0], [1630, 422120.0], [2180, 472000.0], [960, 255000.0], [1680, 347000.0], [1460, 699999.0], [1900, 270000.0], [1170, 459500.0], [2090, 465000.0], [2390, 450000.0], [1750, 510000.0], [820, 102500.0], [2180, 570000.0], [1640, 478000.0], [2850, 907500.0], [2200, 930000.0], [2560, 448000.0], [1760, 620047.0], [1890, 475000.0], [2130, 325000.0], [1410, 365000.0], [1260, 230000.0], [2390, 349950.0], [1970, 432000.0], [1060, 299995.0], [3270, 750000.0], [3660, 1107460.0], [1780, 336900.0], [1440, 500000.0], [3710, 635000.0], [1810, 585000.0], [1470, 169000.0], [2750, 357000.0], [1650, 550000.0], [840, 86500.0], [1450, 300000.0], [2020, 640000.0], [870, 271310.0], [2310, 422000.0], [4240, 2187730.0], [3360, 834995.0], [1560, 254000.0], [1770, 450000.0], [1560, 590000.0], [1900, 520500.0], [1220, 199000.0], [1160, 199500.0], [1068, 207000.0], [3040, 598555.0], [1050, 360000.0], [2010, 310000.0], [850, 490000.0], [700, 295000.0], [2240, 608000.0], [1230, 479000.0], [3206, 375000.0], [2210, 510000.0], [3160, 1127000.0], [3510, 1370000.0], [2540, 350900.0], [2690, 469000.0], [2710, 591000.0], [2020, 302000.0], [2550, 272000.0], [1130, 400000.0], [1270, 390000.0], [1300, 400000.0], [1270, 410000.0], [3900, 650000.0], [1280, 175000.0], [1630, 249000.0], [1570, 315000.0], [2490, 725000.0], [2000, 427000.0], [1760, 410000.0], [1800, 399000.0], [1270, 655000.0], [2120, 329950.0], [1070, 346000.0], [1580, 525000.0], [2490, 949000.0], [5430, 1360000.0], [1730, 328423.0], [2010, 472217.0], [1490, 335000.0], [2550, 315000.0], [1820, 455850.0], [4460, 490000.0], [2340, 645000.0], [1790, 297000.0], [990, 245000.0], [3690, 780000.0], [3330, 1190000.0], [1760, 317000.0], [1220, 483000.0], [2050, 300000.0], [2680, 470000.0], [2800, 490000.0], [2420, 445000.0], [2550, 353000.0], [1730, 635000.0], [1720, 498000.0], [1510, 279950.0], [3320, 667000.0], [2170, 419000.0], [1400, 257000.0], [2350, 495000.0], [1730, 292000.0], [2000, 367000.0], [2140, 420000.0], [1350, 345000.0], [982, 250000.0], [1981, 303700.0], [3130, 320000.0], [790, 315000.0], [2290, 685900.0], [2470, 503000.0], [3230, 1260000.0], [970, 600000.0], [910, 280000.0], [1630, 474900.0], [980, 128000.0], [2200, 295000.0], [1413, 286800.0], [2200, 480000.0], [2390, 799000.0], [2760, 500000.0], [2730, 780000.0], [2660, 495000.0], [1760, 715000.0], [2320, 340000.0], [3420, 548000.0], [660, 250000.0], [2320, 307000.0], [2200, 460000.0], [1210, 299950.0], [1270, 335000.0], [3100, 795000.0], [2720, 632500.0], [1920, 652000.0], [2110, 324950.0], [1400, 395000.0], [1650, 550000.0], [4720, 745000.0], [1180, 397990.0], [1250, 144000.0], [1350, 337500.0], [1510, 415000.0], [1730, 250000.0], [2360, 957500.0], [2270, 469900.0], [1310, 525000.0], [1970, 371000.0], [1280, 170000.0], [2070, 575000.0], [3810, 760000.0], [1590, 225000.0], [1470, 615000.0], [2010, 495500.0], [2010, 605000.0], [1190, 319500.0], [2080, 550000.0], [4430, 1960000.0], [930, 105500.0], [1640, 525000.0], [2350, 770000.0], [1340, 192000.0], [790, 169317.0], [3570, 1600000.0], [3366, 1300000.0], [1210, 500000.0], [1160, 440000.0], [1000, 352500.0], [1300, 365000.0], [3380, 600000.0], [1110, 410500.0], [1560, 500000.0], [4030, 890000.0], [2520, 685000.0], [1580, 379000.0], [1890, 423500.0], [930, 281000.0], [2090, 289000.0], [1740, 340000.0], [3690, 440000.0], [4300, 1450000.0], [2500, 575000.0], [1250, 468000.0], [2810, 825000.0], [1750, 716528.0], [2800, 915000.0], [2400, 569000.0], [2560, 1175000.0], [1880, 334950.0], [2350, 400000.0], [1940, 432500.0], [2420, 950000.0], [2600, 330000.0], [1920, 240000.0], [2060, 574000.0], [2120, 720000.0], [1180, 275000.0], [720, 150000.0], [1000, 249000.0], [1940, 555000.0], [1330, 347000.0], [1980, 660000.0], [1550, 266000.0], [1509, 420000.0], [3200, 580000.0], [3310, 885000.0], [1400, 483000.0], [2620, 765000.0], [2100, 550000.0], [1720, 775000.0], [3020, 955000.0], [2710, 740000.0], [1490, 835000.0], [3210, 565000.0], [1400, 265000.0], [2770, 685000.0], [2980, 725000.0], [1480, 439000.0], [2920, 690000.0], [2620, 535000.0], [1530, 620000.0], [1970, 429800.0], [2610, 1575000.0], [1800, 875000.0], [1910, 250000.0], [680, 200000.0], [1160, 322500.0], [1480, 580000.0], [2130, 732600.0], [3510, 970000.0], [2320, 470101.0], [840, 290000.0], [1380, 272000.0], [1980, 760000.0], [2680, 463000.0], [1690, 230500.0], [1200, 222400.0], [1740, 517000.0], [1530, 320000.0], [2090, 400000.0], [980, 350000.0], [1040, 361000.0], [1100, 240000.0], [1890, 506500.0], [2190, 349000.0], [4610, 1648000.0], [840, 306500.0], [3840, 884250.0], [2880, 579950.0], [1980, 432500.0], [2410, 715000.0], [2300, 417000.0], [1300, 270000.0], [3050, 585000.0], [1530, 245000.0], [1930, 733000.0], [1900, 476800.0], [2940, 435000.0], [980, 435000.0], [3560, 790000.0], [1980, 215000.0], [1120, 335900.0], [2660, 580000.0], [2100, 735000.0], [4070, 889000.0], [1860, 280000.0], [1460, 570000.0], [1830, 600000.0], [1050, 194000.0], [1470, 435000.0], [1450, 150000.0], [1020, 235000.0], [2270, 311750.0], [2770, 347000.0], [1250, 340000.0], [1660, 368000.0], [1850, 475000.0], [1840, 730001.0], [1280, 425000.0], [1080, 115000.0], [2080, 600000.0], [2400, 403500.0], [1300, 235000.0], [2030, 618080.0], [3250, 800000.0], [3320, 1100000.0], [1280, 422250.0], [1730, 625000.0], [2850, 993000.0], [2100, 483000.0], [2250, 440000.0], [3060, 446500.0], [1410, 410000.0], [2090, 311000.0], [2110, 780000.0], [2320, 779000.0], [2810, 685000.0], [1110, 440150.0], [1920, 230000.0], [720, 210000.0], [1600, 270000.0], [2220, 652600.0], [1580, 375000.0], [2040, 330000.0], [1670, 335000.0], [1190, 440000.0], [1900, 425000.0], [2160, 530000.0], [1700, 603000.0], [4750, 487000.0], [2588, 335000.0], [2040, 261000.0], [2230, 565000.0], [2950, 992000.0], [1250, 452000.0], [1910, 650000.0], [1200, 210000.0], [3090, 370000.0], [1730, 490000.0], [1770, 200000.0], [1150, 346500.0], [4410, 1437500.0], [4120, 1851000.0], [1670, 490000.0], [2060, 306500.0], [1250, 200000.0], [4230, 935000.0], [1510, 322000.0], [2130, 233000.0], [3010, 568500.0], [770, 385000.0], [3440, 1225000.0], [1500, 215000.0], [2340, 650500.0], [3690, 865000.0], [3200, 490000.0], [2500, 372000.0], [1800, 471001.0], [4670, 1238000.0], [2310, 785000.0], [2940, 1600000.0], [2910, 925000.0], [3900, 1650000.0], [4250, 465000.0], [2390, 699950.0], [2290, 347500.0], [1500, 270000.0], [1440, 375000.0], [1200, 170000.0], [1270, 259000.0], [3931, 450000.0], [900, 320000.0], [1130, 207000.0], [1670, 373000.0], [2280, 649800.0], [2280, 570000.0], [1480, 395000.0], [1710, 295000.0], [2480, 1387800.0], [2210, 353000.0], [2030, 305000.0], [2690, 690000.0], [1890, 314950.0], [2840, 425000.0], [1030, 365000.0], [880, 210000.0], [3270, 725000.0], [1890, 271900.0], [5540, 2630000.0], [1400, 310000.0], [2200, 325000.0], [1160, 315000.0], [2220, 374000.0], [1590, 395000.0], [3250, 779000.0], [2380, 699900.0], [1900, 305000.0], [3090, 1000000.0], [1010, 525000.0], [3130, 866059.0], [2040, 555000.0], [2000, 725000.0], [1680, 272000.0], [1980, 638500.0], [1150, 129000.0], [2480, 468000.0], [960, 237000.0], [2400, 338000.0], [1120, 399000.0], [1996, 285000.0], [1560, 295000.0], [3140, 990000.0], [2730, 310000.0], [4260, 3400000.0], [1920, 329950.0], [1560, 448000.0], [2350, 561600.0], [850, 447000.0], [3450, 850000.0], [2980, 610000.0], [3100, 894400.0], [1110, 249000.0], [3056, 524225.0], [1140, 277000.0], [3130, 1389000.0], [1330, 295000.0], [1670, 545000.0], [1640, 311000.0], [2550, 675000.0], [2860, 289275.0], [1420, 579950.0], [1300, 455000.0], [1650, 730000.0], [1370, 264950.0], [1120, 320000.0], [2050, 299000.0], [780, 167000.0], [1670, 348000.0], [1370, 548000.0], [3790, 875000.0], [2420, 376000.0], [1860, 350000.0], [1240, 319950.0], [2510, 588000.0], [2310, 440000.0], [2900, 790000.0], [1690, 289000.0], [3360, 590000.0], [1170, 216500.0], [1150, 354500.0], [2010, 740000.0], [1970, 379950.0], [970, 200450.0], [2010, 502000.0], [2930, 549950.0], [2170, 460500.0], [3270, 560000.0], [2900, 352000.0], [1500, 255950.0], [1320, 475000.0], [1900, 658500.0], [3110, 600000.0], [2680, 608095.0], [1490, 265950.0], [1270, 346000.0], [2310, 524000.0], [1510, 247000.0], [1160, 275000.0], [1020, 450000.0], [1120, 178500.0], [1970, 297000.0], [2370, 387865.0], [1960, 450000.0], [1160, 700000.0], [2130, 380000.0], [1890, 490000.0], [2280, 835000.0], [860, 399900.0], [2470, 485000.0], [1640, 471000.0], [1240, 427500.0], [1300, 375000.0], [2190, 365000.0], [1580, 551000.0], [1550, 537000.0], [1390, 341000.0], [3100, 850000.0], [1020, 625000.0], [1700, 161000.0], [2095, 292500.0], [2290, 450000.0], [1560, 537000.0], [2700, 810000.0], [1580, 247800.0], [2160, 849000.0], [1020, 180000.0], [580, 315000.0], [1820, 469950.0], [2670, 605000.0], [1860, 380000.0], [2200, 885000.0], [830, 275000.0], [1540, 375000.0], [640, 426000.0], [4390, 1880000.0], [3238, 355425.0], [890, 169000.0], [2830, 713414.0], [1040, 227000.0], [1430, 245500.0], [2400, 590000.0], [2580, 787888.0], [3180, 340000.0], [1380, 268000.0], [1580, 749000.0], [1530, 154000.0], [2050, 760000.0], [2305, 705000.0], [3260, 755000.0], [2993, 540000.0], [1440, 328000.0], [3980, 760000.0], [1350, 450000.0], [770, 315000.0], [2798, 499950.0], [1200, 420000.0], [1980, 418000.0], [1940, 525000.0], [2880, 680000.0], [1010, 390000.0], [3450, 1665000.0], [1610, 262500.0], [1320, 387500.0], [5610, 1583000.0], [2250, 390000.0], [1720, 555000.0], [1520, 380000.0], [2300, 400000.0], [1410, 406100.0], [1640, 275000.0], [880, 210000.0], [1240, 483000.0], [2060, 425000.0], [850, 295000.0], [3290, 947500.0], [2360, 370000.0], [1320, 206000.0], [1400, 250000.0], [2120, 436000.0], [1920, 542500.0], [1820, 438000.0], [1880, 530200.0], [1260, 335000.0], [1810, 362000.0], [3720, 955000.0], [1560, 380000.0], [1470, 554600.0], [1600, 365000.0], [1700, 550000.0], [1020, 485000.0], [3850, 1200000.0], [1700, 616000.0], [2310, 495000.0], [3050, 563950.0], [720, 335000.0], [1720, 950000.0], [1460, 427000.0], [3320, 805000.0], [2490, 634000.0], [1680, 480000.0], [2410, 1440000.0], [2330, 490000.0], [2280, 450000.0], [1500, 405000.0], [2300, 592000.0], [1710, 362500.0], [2670, 500000.0], [1950, 525126.0], [1710, 450000.0], [5370, 884900.0], [1390, 657100.0], [1320, 422000.0], [1630, 246000.0], [1410, 211000.0], [1590, 324500.0], [1800, 335000.0], [1140, 549000.0], [3310, 1100000.0], [2500, 411000.0], [2090, 327500.0], [980, 550000.0], [2700, 680000.0], [2660, 310000.0], [2700, 480000.0], [2070, 405000.0], [1315, 347000.0], [1720, 770000.0], [2716, 452000.0], [950, 515000.0], [3920, 827500.0], [2050, 540000.0], [2100, 640000.0], [1820, 430000.0], [2010, 410000.0], [2700, 749000.0], [2260, 367000.0], [1800, 334998.0], [1790, 280000.0], [3400, 688000.0], [1200, 210000.0], [1020, 402101.0], [1520, 508450.0], [1340, 357000.0], [1620, 460000.0], [1500, 273000.0], [2810, 301000.0], [1100, 395000.0], [2190, 245000.0], [2170, 876650.0], [2490, 270000.0], [1860, 280000.0], [3150, 727000.0], [1490, 368888.0], [3640, 1200690.0], [2070, 329950.0], [2010, 430000.0], [2870, 540000.0], [1070, 147000.0], [810, 170000.0], [1210, 310000.0], [1500, 215000.0], [1800, 442500.0], [2070, 535000.0], [5840, 2200000.0], [3569, 580000.0], [2300, 610000.0], [2230, 347500.0], [2520, 770000.0], [560, 249900.0], [2190, 700000.0], [1330, 234999.0], [2420, 600000.0], [1930, 400000.0], [2550, 277500.0], [2800, 550000.0], [3500, 790000.0], [1350, 241250.0], [4420, 730000.0], [1540, 659000.0], [2210, 660000.0], [3190, 760750.0], [1190, 475000.0], [1640, 500000.0], [2370, 300523.0], [1540, 240000.0], [950, 520000.0], [2640, 650000.0], [2140, 210000.0], [2090, 725000.0], [2970, 526000.0], [1820, 325000.0], [1740, 302000.0], [2690, 1298890.0], [1460, 222000.0], [2290, 753000.0], [1960, 300000.0], [1320, 185000.0], [2680, 698000.0], [1770, 315000.0], [1760, 194000.0], [2670, 612000.0], [2390, 629800.0], [1090, 292000.0], [3360, 850000.0], [1280, 272925.0], [420, 280000.0], [1440, 437000.0], [4400, 1050000.0], [6530, 1600000.0], [1970, 315000.0], [2310, 727160.0], [1430, 375000.0], [1230, 393500.0], [2950, 1045000.0], [1860, 217000.0], [2590, 533000.0], [1340, 369000.0], [2870, 872750.0], [2400, 325000.0], [1730, 379260.0], [1880, 435000.0], [1580, 289000.0], [2300, 612000.0], [3320, 1699990.0], [1670, 697000.0], [1690, 336900.0], [2040, 506000.0], [1410, 325000.0], [1130, 316000.0], [1620, 386000.0], [1520, 600000.0], [950, 304000.0], [1910, 240000.0], [2420, 449950.0], [2340, 438000.0], [2610, 1300000.0], [1320, 275000.0], [1070, 265000.0], [1500, 437000.0], [880, 330000.0], [1880, 423000.0], [2720, 685000.0], [3630, 716500.0], [1780, 625000.0], [1040, 230000.0], [1320, 404500.0], [2480, 583800.0], [2690, 333000.0], [1650, 255000.0], [2610, 320000.0], [3010, 728725.0], [1900, 315000.0], [2520, 780000.0], [2960, 1250000.0], [2650, 725000.0], [2080, 315000.0], [1610, 249900.0], [1630, 360000.0], [2540, 487000.0], [1010, 400000.0], [2270, 575000.0], [3560, 435000.0], [1140, 262500.0], [1390, 258000.0], [2550, 850000.0], [3800, 380000.0], [1500, 230000.0], [2200, 300000.0], [1790, 725000.0], [2145, 734000.0], [1640, 700000.0], [1790, 603000.0], [1790, 402200.0], [1820, 275000.0], [990, 220500.0], [1740, 340000.0], [2430, 362300.0], [2790, 640000.0], [2800, 1465000.0], [1010, 285000.0], [1520, 450000.0], [3420, 780000.0], [2570, 634000.0], [3130, 762500.0], [1350, 250000.0], [1820, 825000.0], [1680, 308000.0], [2370, 420000.0], [1400, 295000.0], [590, 156000.0], [3695, 994900.0], [1770, 375000.0], [1220, 253500.0], [1940, 540000.0], [3050, 707000.0], [990, 246000.0], [3130, 649000.0], [2605, 599900.0], [1370, 246900.0], [1160, 422000.0], [2120, 733500.0], [1550, 570000.0], [1980, 615000.0], [1780, 475000.0], [1530, 220000.0], [3180, 1325000.0], [2800, 1850000.0], [1330, 205500.0], [2350, 462500.0], [1010, 400000.0], [2060, 541338.0], [1550, 537000.0], [2460, 579950.0], [1110, 369950.0], [4168, 442000.0], [1980, 299000.0], [2110, 260000.0], [1960, 415000.0], [1900, 675000.0], [2400, 489950.0], [980, 307500.0], [1410, 760000.0], [2670, 675000.0], [1280, 375000.0], [860, 215000.0], [2740, 407500.0], [2150, 411000.0], [2970, 1260000.0], [1370, 268000.0], [2375, 712000.0], [1670, 280000.0], [1390, 261000.0], [1900, 562200.0], [1590, 670500.0], [2360, 499900.0], [2120, 690000.0], [2070, 235000.0], [1580, 424000.0], [1700, 500000.0], [3700, 540000.0], [2170, 195000.0], [3010, 839950.0], [1500, 490000.0], [2340, 572000.0], [2100, 521900.0], [1710, 482000.0], [2810, 747500.0], [1700, 245000.0], [2060, 418500.0], [3080, 569999.0], [3600, 1350000.0], [2500, 450000.0], [1760, 471000.0], [2610, 1049000.0], [4740, 1200000.0], [1620, 395000.0], [1000, 410988.0], [1440, 203000.0], [1450, 375000.0], [950, 320000.0], [3470, 599000.0], [2110, 565000.0], [1070, 152000.0], [1880, 340000.0], [1380, 450000.0], [1590, 337000.0], [1651, 363000.0], [3270, 600000.0], [2370, 400000.0], [1550, 250000.0], [1390, 370000.0], [1760, 647500.0], [2370, 597000.0], [3440, 905000.0], [1790, 455000.0], [1880, 455000.0]], \"columns\": [{\"dtype\": \"int\", \"name\": \"id\"}, {\"dtype\": \"str\", \"name\": \"date\"}, {\"dtype\": \"float\", \"name\": \"price\"}, {\"dtype\": \"int\", \"name\": \"bedrooms\"}, {\"dtype\": \"float\", \"name\": \"bathrooms\"}, {\"dtype\": \"int\", \"name\": \"sqft_living\"}, {\"dtype\": \"int\", \"name\": \"sqft_lot\"}, {\"dtype\": \"float\", \"name\": \"floors\"}, {\"dtype\": \"int\", \"name\": \"waterfront\"}, {\"dtype\": \"int\", \"name\": \"view\"}, {\"dtype\": \"int\", \"name\": \"condition\"}, {\"dtype\": \"int\", \"name\": \"grade\"}, {\"dtype\": \"int\", \"name\": \"sqft_above\"}, {\"dtype\": \"int\", \"name\": \"sqft_basement\"}, {\"dtype\": \"int\", \"name\": \"yr_built\"}, {\"dtype\": \"int\", \"name\": \"yr_renovated\"}, {\"dtype\": \"int\", \"name\": \"zipcode\"}, {\"dtype\": \"float\", \"name\": \"lat\"}, {\"dtype\": \"float\", \"name\": \"long\"}, {\"dtype\": \"int\", \"name\": \"sqft_living15\"}, {\"dtype\": \"int\", \"name\": \"sqft_lot15\"}]}, e);\n",
       "                });\n",
       "            })();\n",
       "        "
      ]
     },
     "metadata": {},
     "output_type": "display_data"
    }
   ],
   "source": [
    "test_data.show(view=\"Scatter Plot\", x=\"sqft_living\", y=\"price\")"
   ]
  },
  {
   "cell_type": "code",
   "execution_count": 7,
   "metadata": {
    "collapsed": false
   },
   "outputs": [
    {
     "data": {
      "text/plain": [
       "4229"
      ]
     },
     "execution_count": 7,
     "metadata": {},
     "output_type": "execute_result"
    }
   ],
   "source": [
    "len(test_data)"
   ]
  },
  {
   "cell_type": "code",
   "execution_count": 10,
   "metadata": {
    "collapsed": true
   },
   "outputs": [],
   "source": [
    "test_data_filter = test_data[test_data['bedrooms'] != 33]"
   ]
  },
  {
   "cell_type": "code",
   "execution_count": 11,
   "metadata": {
    "collapsed": false
   },
   "outputs": [
    {
     "data": {
      "text/plain": [
       "4228"
      ]
     },
     "execution_count": 11,
     "metadata": {},
     "output_type": "execute_result"
    }
   ],
   "source": [
    "len(test_data_filter)"
   ]
  },
  {
   "cell_type": "code",
   "execution_count": 12,
   "metadata": {
    "collapsed": false
   },
   "outputs": [
    {
     "data": {
      "application/javascript": [
       "$(\"head\").append($(\"<link/>\").attr({\n",
       "  rel:  \"stylesheet\",\n",
       "  type: \"text/css\",\n",
       "  href: \"//cdnjs.cloudflare.com/ajax/libs/font-awesome/4.1.0/css/font-awesome.min.css\"\n",
       "}));\n",
       "$(\"head\").append($(\"<link/>\").attr({\n",
       "  rel:  \"stylesheet\",\n",
       "  type: \"text/css\",\n",
       "  href: \"https://static.turi.com/products/graphlab-create/2.1/canvas/css/canvas.css\"\n",
       "}));\n",
       "\n",
       "            (function(){\n",
       "\n",
       "                var e = null;\n",
       "                if (typeof element == 'undefined') {\n",
       "                    var scripts = document.getElementsByTagName('script');\n",
       "                    var thisScriptTag = scripts[scripts.length-1];\n",
       "                    var parentDiv = thisScriptTag.parentNode;\n",
       "                    e = document.createElement('div');\n",
       "                    parentDiv.appendChild(e);\n",
       "                } else {\n",
       "                    e = element[0];\n",
       "                }\n",
       "\n",
       "                if (typeof requirejs !== 'undefined') {\n",
       "                    // disable load timeout; ipython_app.js is large and can take a while to load.\n",
       "                    requirejs.config({waitSeconds: 0});\n",
       "                }\n",
       "\n",
       "                require(['https://static.turi.com/products/graphlab-create/2.1/canvas/js/ipython_app.js'], function(IPythonApp){\n",
       "                    var app = new IPythonApp();\n",
       "                    app.attachView('sframe','Plots', {\"selected_variable\": {\"name\": [\"test_data_filter\"], \"descriptives\": {\"rows\": 4228, \"columns\": 21}, \"view_component\": \"Plots\", \"view_file\": \"sframe\", \"view_params\": {\"y\": \"sqft_living\", \"x\": \"bedrooms\", \"columns\": [\"id\", \"date\", \"price\", \"bedrooms\", \"bathrooms\", \"sqft_living\", \"sqft_lot\", \"floors\", \"waterfront\", \"view\", \"condition\", \"grade\", \"sqft_above\", \"sqft_basement\", \"yr_built\", \"yr_renovated\", \"zipcode\", \"lat\", \"long\", \"sqft_living15\", \"sqft_lot15\"], \"view\": \"Scatter Plot\"}, \"view_components\": [\"Summary\", \"Table\", \"Bar Chart\", \"BoxWhisker Plot\", \"Line Chart\", \"Scatter Plot\", \"Heat Map\", \"Plots\"], \"type\": \"SFrame\", \"columns\": [{\"dtype\": \"int\", \"name\": \"id\"}, {\"dtype\": \"str\", \"name\": \"date\"}, {\"dtype\": \"float\", \"name\": \"price\"}, {\"dtype\": \"int\", \"name\": \"bedrooms\"}, {\"dtype\": \"float\", \"name\": \"bathrooms\"}, {\"dtype\": \"int\", \"name\": \"sqft_living\"}, {\"dtype\": \"int\", \"name\": \"sqft_lot\"}, {\"dtype\": \"float\", \"name\": \"floors\"}, {\"dtype\": \"int\", \"name\": \"waterfront\"}, {\"dtype\": \"int\", \"name\": \"view\"}, {\"dtype\": \"int\", \"name\": \"condition\"}, {\"dtype\": \"int\", \"name\": \"grade\"}, {\"dtype\": \"int\", \"name\": \"sqft_above\"}, {\"dtype\": \"int\", \"name\": \"sqft_basement\"}, {\"dtype\": \"int\", \"name\": \"yr_built\"}, {\"dtype\": \"int\", \"name\": \"yr_renovated\"}, {\"dtype\": \"int\", \"name\": \"zipcode\"}, {\"dtype\": \"float\", \"name\": \"lat\"}, {\"dtype\": \"float\", \"name\": \"long\"}, {\"dtype\": \"int\", \"name\": \"sqft_living15\"}, {\"dtype\": \"int\", \"name\": \"sqft_lot15\"}], \"column_identifiers\": [\"bathrooms\", \"sqft_living15\", \"sqft_above\", \"grade\", \"yr_built\", \"price\", \"bedrooms\", \"zipcode\", \"long\", \"id\", \"sqft_lot15\", \"sqft_living\", \"floors\", \"sqft_lot\", \"date\", \"waterfront\", \"sqft_basement\", \"yr_renovated\", \"lat\", \"condition\", \"view\"]}, \"complete\": 1, \"ipython\": true, \"progress\": 1.0, \"data\": [[3, 1430], [4, 1560], [3, 1710], [3, 2320], [3, 3060], [3, 1740], [4, 2460], [3, 1550], [4, 3480], [2, 2360], [3, 2270], [4, 2400], [5, 1430], [3, 1960], [3, 1860], [3, 2250], [3, 1210], [3, 1630], [3, 1590], [2, 960], [2, 1250], [5, 2320], [5, 2060], [3, 1990], [2, 770], [3, 2099], [3, 1340], [2, 2360], [3, 1670], [4, 2200], [6, 2880], [3, 1300], [5, 3510], [4, 2750], [3, 1750], [3, 1690], [3, 1150], [5, 3760], [4, 3820], [4, 1210], [6, 3190], [3, 2700], [4, 4420], [5, 2420], [3, 1280], [3, 2390], [3, 1760], [3, 2420], [4, 3030], [5, 1940], [3, 860], [3, 1050], [4, 4290], [4, 4290], [3, 2090], [6, 3400], [3, 1720], [3, 2300], [4, 3070], [4, 1950], [4, 2500], [3, 2520], [4, 1900], [4, 2440], [4, 2580], [3, 1390], [4, 2180], [4, 2270], [3, 3430], [3, 1580], [5, 3040], [4, 4750], [4, 2320], [5, 3220], [2, 670], [3, 1700], [3, 1210], [3, 1830], [3, 1680], [4, 3300], [5, 2720], [4, 2710], [4, 2030], [3, 1510], [1, 650], [3, 1640], [4, 2760], [2, 950], [3, 2320], [3, 1730], [4, 2610], [3, 1250], [3, 1830], [3, 1740], [3, 1710], [5, 4440], [4, 2020], [3, 2270], [2, 1610], [5, 3240], [4, 2100], [3, 1720], [4, 2210], [4, 2110], [2, 1490], [4, 2770], [2, 1330], [4, 2350], [4, 2400], [3, 1500], [3, 1430], [3, 1340], [3, 1800], [4, 1970], [3, 2060], [4, 2320], [4, 3010], [3, 1860], [3, 1270], [5, 2130], [4, 2990], [3, 1500], [3, 1805], [4, 2716], [4, 1680], [3, 1580], [4, 2110], [4, 3340], [3, 1200], [2, 950], [3, 1440], [2, 1320], [3, 1680], [2, 1020], [4, 2820], [3, 2540], [2, 710], [3, 1210], [4, 1720], [5, 2150], [3, 1190], [4, 1800], [5, 1760], [3, 1670], [6, 2420], [3, 1530], [3, 1450], [3, 1010], [6, 2660], [2, 830], [4, 1530], [3, 910], [4, 2220], [3, 960], [4, 3240], [4, 2156], [3, 1920], [4, 2340], [3, 2980], [3, 2150], [3, 3270], [3, 1200], [3, 1400], [2, 880], [3, 1650], [5, 2290], [4, 1520], [3, 2590], [3, 1940], [3, 2180], [3, 2610], [3, 1470], [4, 1790], [3, 1510], [3, 1110], [4, 3120], [3, 3220], [3, 1340], [3, 1460], [1, 550], [3, 2200], [1, 1440], [4, 1120], [4, 2150], [4, 2200], [4, 2840], [2, 1110], [2, 1520], [3, 2090], [4, 1670], [4, 2970], [3, 1720], [3, 2710], [5, 4460], [4, 2210], [3, 1770], [4, 1810], [4, 1520], [2, 1470], [3, 1710], [4, 2130], [4, 2009], [2, 740], [3, 2650], [4, 1750], [3, 3230], [3, 1670], [4, 2090], [3, 2860], [2, 1600], [3, 1230], [3, 2100], [4, 2960], [4, 1350], [4, 2993], [3, 1670], [3, 1640], [3, 1920], [4, 2050], [4, 2010], [4, 4410], [3, 3410], [4, 3720], [5, 3930], [2, 1380], [3, 1160], [4, 2070], [4, 1980], [5, 1820], [4, 2550], [4, 2100], [3, 2420], [3, 3000], [3, 1980], [3, 1020], [3, 2090], [4, 2160], [4, 2430], [2, 1380], [6, 6980], [3, 1560], [3, 1520], [3, 1400], [3, 1450], [3, 1260], [4, 2150], [5, 1540], [5, 2620], [4, 1580], [4, 2440], [4, 2560], [3, 3040], [4, 2420], [3, 2280], [2, 800], [3, 2030], [3, 1200], [4, 2340], [3, 1780], [4, 2550], [4, 2100], [4, 1540], [4, 2540], [2, 830], [2, 1470], [5, 2420], [2, 780], [2, 900], [4, 2440], [4, 1970], [4, 2530], [4, 2000], [3, 1400], [4, 2000], [3, 2800], [4, 3830], [3, 2480], [3, 1400], [5, 3230], [2, 1350], [3, 1190], [3, 970], [4, 3640], [4, 4070], [2, 720], [5, 3440], [3, 1700], [2, 910], [3, 1410], [5, 4140], [3, 1360], [4, 2100], [3, 1590], [4, 1720], [4, 2000], [5, 2820], [4, 2730], [3, 1480], [3, 1760], [4, 3770], [3, 1210], [2, 1250], [2, 700], [5, 5930], [3, 1680], [1, 880], [4, 3660], [4, 1580], [4, 1590], [4, 3320], [2, 2080], [5, 5840], [4, 2280], [5, 2090], [4, 2650], [2, 1680], [3, 1920], [4, 1730], [4, 2360], [5, 2340], [2, 1070], [3, 1580], [5, 3000], [4, 1670], [3, 2670], [4, 1900], [7, 2660], [4, 2550], [5, 2310], [2, 1290], [3, 1790], [2, 1450], [3, 2500], [3, 1760], [3, 2010], [2, 1340], [4, 1540], [2, 930], [3, 1890], [4, 3330], [3, 1240], [3, 2190], [2, 1300], [4, 1510], [3, 1020], [3, 2090], [4, 1996], [3, 2270], [2, 1070], [2, 1140], [3, 2050], [3, 1000], [5, 3360], [3, 1720], [3, 1300], [3, 3420], [2, 1180], [3, 3140], [2, 1240], [3, 1410], [4, 2780], [4, 2540], [5, 3640], [3, 1890], [2, 1220], [3, 1650], [5, 2600], [4, 1920], [4, 4140], [4, 5000], [2, 1440], [4, 2260], [4, 2095], [3, 1180], [2, 1100], [4, 4260], [3, 2090], [3, 1740], [4, 2090], [4, 2230], [5, 1900], [4, 1870], [4, 2100], [4, 2510], [5, 4300], [4, 3610], [3, 1050], [4, 2790], [3, 2250], [3, 1930], [3, 2320], [4, 3360], [4, 2150], [4, 3190], [3, 2070], [1, 720], [3, 1440], [3, 1350], [3, 1940], [2, 1150], [3, 1490], [5, 2410], [4, 2050], [3, 1280], [3, 1650], [3, 3310], [3, 1380], [4, 3830], [4, 2430], [4, 1200], [3, 2140], [3, 1820], [2, 2150], [3, 1200], [3, 2430], [3, 1020], [5, 3300], [3, 1690], [2, 910], [2, 1190], [3, 1270], [4, 1190], [4, 2910], [5, 2100], [3, 1540], [3, 2970], [3, 2480], [4, 2100], [4, 2000], [2, 1850], [3, 2920], [3, 2120], [2, 1010], [2, 1330], [3, 1800], [3, 1480], [3, 1410], [4, 1790], [3, 3090], [3, 840], [3, 1460], [3, 1200], [3, 1360], [3, 2350], [3, 3380], [3, 1580], [4, 2790], [5, 3220], [3, 1380], [4, 2770], [4, 2280], [4, 1880], [4, 2450], [5, 2030], [3, 2140], [3, 2320], [4, 1400], [4, 1700], [3, 2120], [2, 1280], [5, 4350], [3, 1950], [4, 2740], [4, 2160], [3, 1240], [4, 2060], [3, 1890], [4, 3300], [4, 3140], [5, 3366], [2, 1000], [4, 2660], [5, 1920], [3, 3440], [3, 2600], [4, 2010], [3, 1220], [4, 1740], [2, 2060], [4, 3110], [3, 1690], [3, 1720], [4, 2060], [6, 4750], [2, 950], [2, 1400], [3, 1220], [5, 1790], [4, 3420], [2, 780], [2, 3360], [4, 1960], [4, 2130], [4, 2420], [3, 3160], [4, 1570], [4, 2070], [6, 2270], [3, 1770], [3, 1370], [3, 1760], [6, 2840], [6, 2400], [3, 1840], [4, 1900], [4, 2920], [3, 1600], [4, 2310], [4, 3690], [5, 2800], [3, 1440], [2, 670], [2, 1050], [4, 2470], [4, 2940], [4, 2120], [4, 3140], [3, 1480], [4, 1250], [4, 4400], [4, 3569], [2, 1570], [2, 960], [3, 2610], [3, 1550], [2, 900], [5, 3330], [3, 1584], [3, 3790], [3, 2060], [4, 1960], [6, 3870], [2, 1010], [3, 1100], [4, 2320], [5, 2980], [3, 1840], [3, 1720], [4, 1570], [2, 1780], [5, 2200], [3, 1890], [4, 2240], [4, 2240], [3, 2095], [2, 1540], [4, 1970], [4, 3390], [6, 3250], [3, 1850], [4, 1540], [4, 2000], [5, 2970], [5, 2510], [4, 2500], [4, 2810], [3, 1730], [4, 3870], [3, 1790], [4, 2760], [3, 2720], [4, 4300], [3, 1660], [3, 3150], [3, 1480], [2, 910], [3, 2210], [3, 1140], [4, 2040], [3, 1560], [2, 840], [5, 2280], [2, 890], [5, 2490], [3, 1108], [3, 1900], [2, 1384], [4, 2770], [3, 3590], [3, 1660], [4, 3290], [3, 1010], [4, 2030], [3, 1820], [3, 1970], [3, 1300], [4, 1820], [4, 2990], [3, 1140], [4, 1700], [3, 1220], [4, 3220], [3, 1690], [4, 1630], [2, 870], [3, 2480], [4, 2270], [2, 1920], [3, 2160], [3, 1810], [6, 3300], [3, 1390], [3, 1400], [3, 1590], [4, 3850], [3, 2000], [4, 1910], [3, 2320], [3, 1600], [3, 1830], [3, 2390], [4, 2050], [3, 1358], [3, 1000], [3, 1390], [3, 4190], [3, 1630], [2, 1360], [3, 1670], [3, 960], [4, 2290], [2, 1160], [2, 750], [3, 2610], [3, 1020], [3, 2070], [2, 1080], [2, 1160], [3, 3180], [4, 1130], [3, 1540], [3, 1940], [4, 1900], [3, 3090], [4, 2910], [3, 990], [3, 1790], [4, 1820], [2, 940], [4, 2150], [3, 1630], [3, 1980], [3, 1580], [3, 1690], [3, 950], [2, 1120], [3, 2090], [3, 1400], [3, 2100], [4, 3190], [3, 1500], [2, 1230], [3, 920], [3, 1860], [3, 1750], [3, 1050], [3, 1840], [2, 640], [3, 1890], [3, 2230], [3, 1880], [3, 3470], [5, 3800], [2, 1200], [2, 870], [2, 700], [2, 1830], [4, 2350], [2, 1120], [4, 2570], [2, 1290], [2, 2305], [3, 1460], [4, 1820], [4, 2900], [4, 2580], [4, 3480], [3, 1100], [4, 4410], [3, 1200], [3, 2510], [3, 1560], [2, 1450], [4, 2150], [4, 2430], [3, 3410], [2, 1590], [3, 1070], [3, 2330], [4, 2540], [3, 1390], [4, 2500], [5, 1600], [3, 2880], [3, 1790], [3, 1410], [4, 2060], [4, 1580], [4, 1780], [4, 2680], [3, 2430], [4, 1640], [3, 1640], [2, 880], [3, 1770], [3, 1270], [4, 3160], [4, 3030], [4, 2940], [2, 700], [6, 3020], [4, 2584], [4, 2600], [3, 2140], [4, 1890], [4, 1760], [3, 1350], [3, 3100], [2, 970], [3, 1840], [4, 3250], [4, 2540], [4, 1500], [5, 3450], [4, 2410], [3, 2350], [4, 2080], [3, 1010], [4, 5230], [3, 1100], [5, 2670], [4, 1860], [4, 2150], [4, 1650], [4, 3510], [3, 1770], [4, 2570], [3, 1590], [4, 2330], [3, 1700], [3, 1980], [5, 3490], [4, 2420], [4, 1530], [4, 1820], [4, 3600], [4, 2270], [2, 1170], [3, 2280], [3, 2170], [3, 1360], [7, 3890], [3, 3070], [2, 1610], [4, 3200], [6, 3206], [3, 1850], [2, 1070], [4, 3010], [3, 980], [4, 4030], [4, 3950], [3, 2050], [4, 3290], [3, 1290], [3, 850], [3, 960], [3, 2840], [2, 800], [4, 2660], [3, 1010], [4, 3410], [3, 2170], [2, 1140], [4, 1600], [4, 2880], [2, 1390], [4, 2460], [4, 1890], [4, 2660], [3, 1700], [3, 1040], [4, 1700], [4, 1370], [4, 1500], [3, 1790], [3, 2070], [4, 5430], [4, 2500], [4, 2360], [4, 3080], [7, 3700], [3, 1340], [3, 2040], [4, 2160], [4, 2620], [4, 1920], [3, 2060], [3, 2980], [4, 3500], [5, 2690], [5, 2920], [3, 1560], [3, 1070], [4, 2370], [3, 1450], [4, 2860], [7, 2310], [3, 1610], [4, 2280], [4, 3160], [2, 840], [4, 3010], [4, 2690], [3, 1460], [3, 1050], [3, 1660], [5, 3990], [3, 1640], [3, 2990], [4, 3340], [4, 4180], [3, 1880], [3, 2060], [2, 910], [4, 1850], [4, 2500], [2, 1140], [4, 2910], [3, 2220], [4, 2370], [4, 2150], [3, 1260], [1, 1220], [4, 2050], [3, 1870], [2, 1070], [5, 3710], [4, 2670], [4, 3680], [3, 1680], [4, 4750], [3, 3280], [5, 2130], [5, 2010], [4, 2740], [2, 1040], [4, 2170], [3, 1630], [3, 1050], [4, 3000], [3, 1600], [3, 1600], [3, 1360], [3, 1180], [4, 2870], [5, 2240], [3, 1870], [4, 3040], [4, 2170], [3, 1320], [3, 2020], [4, 2410], [3, 1990], [2, 2700], [3, 1350], [3, 1570], [3, 1290], [2, 940], [4, 4960], [3, 1900], [5, 4010], [5, 2750], [4, 2010], [3, 1470], [5, 3870], [3, 1380], [2, 1940], [4, 2650], [4, 1890], [4, 4040], [5, 2100], [3, 1720], [3, 1470], [4, 1790], [5, 1400], [3, 2330], [4, 3120], [4, 2720], [4, 2830], [3, 2350], [2, 840], [3, 3010], [4, 1790], [2, 1170], [4, 1440], [2, 1130], [4, 3010], [5, 2520], [2, 680], [3, 1210], [3, 2790], [4, 1920], [4, 2590], [3, 2080], [4, 2560], [4, 2240], [4, 2190], [4, 4660], [2, 770], [3, 1500], [4, 2700], [4, 3200], [4, 4730], [3, 2200], [5, 3960], [4, 2710], [5, 1940], [4, 3450], [3, 2120], [3, 1450], [2, 860], [3, 1510], [6, 3100], [3, 1350], [3, 1120], [2, 1260], [2, 1910], [2, 950], [3, 1670], [4, 2660], [4, 2230], [4, 1570], [4, 1480], [3, 1300], [4, 1760], [4, 2520], [3, 1110], [3, 2990], [4, 2090], [2, 900], [2, 1240], [4, 1900], [2, 2140], [4, 3080], [3, 1410], [4, 3270], [4, 1880], [3, 1840], [3, 1270], [3, 1820], [4, 2440], [5, 2500], [2, 1350], [5, 2890], [4, 1390], [4, 5770], [2, 1030], [5, 6085], [4, 2040], [4, 2980], [5, 2060], [4, 2120], [5, 3650], [4, 2490], [3, 2940], [3, 1480], [4, 2310], [5, 2000], [5, 1510], [4, 3070], [3, 1140], [2, 960], [5, 3230], [3, 1740], [2, 720], [3, 1560], [3, 1160], [3, 1900], [5, 2300], [3, 3420], [5, 2200], [3, 1600], [4, 2040], [3, 1060], [3, 1270], [5, 1730], [3, 2570], [2, 1150], [2, 1060], [5, 3160], [4, 3550], [3, 1370], [2, 3000], [2, 1090], [3, 2010], [2, 1900], [3, 1150], [2, 2270], [4, 1790]], \"columns\": [{\"dtype\": \"int\", \"name\": \"id\"}, {\"dtype\": \"str\", \"name\": \"date\"}, {\"dtype\": \"float\", \"name\": \"price\"}, {\"dtype\": \"int\", \"name\": \"bedrooms\"}, {\"dtype\": \"float\", \"name\": \"bathrooms\"}, {\"dtype\": \"int\", \"name\": \"sqft_living\"}, {\"dtype\": \"int\", \"name\": \"sqft_lot\"}, {\"dtype\": \"float\", \"name\": \"floors\"}, {\"dtype\": \"int\", \"name\": \"waterfront\"}, {\"dtype\": \"int\", \"name\": \"view\"}, {\"dtype\": \"int\", \"name\": \"condition\"}, {\"dtype\": \"int\", \"name\": \"grade\"}, {\"dtype\": \"int\", \"name\": \"sqft_above\"}, {\"dtype\": \"int\", \"name\": \"sqft_basement\"}, {\"dtype\": \"int\", \"name\": \"yr_built\"}, {\"dtype\": \"int\", \"name\": \"yr_renovated\"}, {\"dtype\": \"int\", \"name\": \"zipcode\"}, {\"dtype\": \"float\", \"name\": \"lat\"}, {\"dtype\": \"float\", \"name\": \"long\"}, {\"dtype\": \"int\", \"name\": \"sqft_living15\"}, {\"dtype\": \"int\", \"name\": \"sqft_lot15\"}]}, e);\n",
       "                });\n",
       "            })();\n",
       "        "
      ]
     },
     "metadata": {},
     "output_type": "display_data"
    }
   ],
   "source": [
    "test_data_filter.show(view=\"Scatter Plot\", x=\"bedrooms\", y=\"sqft_living\")"
   ]
  },
  {
   "cell_type": "code",
   "execution_count": null,
   "metadata": {
    "collapsed": true
   },
   "outputs": [],
   "source": [
    "test_data.show(view=\"Scatter Plot\", x=\"sqft_living\", y=\"price\")"
   ]
  },
  {
   "cell_type": "code",
   "execution_count": null,
   "metadata": {
    "collapsed": true
   },
   "outputs": [],
   "source": []
  },
  {
   "cell_type": "markdown",
   "metadata": {},
   "source": [
    "Matplotlib is a Python plotting library that is also useful for plotting.  You can install it with:\n",
    "\n",
    "'pip install matplotlib'"
   ]
  },
  {
   "cell_type": "code",
   "execution_count": 23,
   "metadata": {
    "collapsed": false
   },
   "outputs": [],
   "source": [
    "import matplotlib.pyplot as plt\n",
    "%matplotlib inline"
   ]
  },
  {
   "cell_type": "code",
   "execution_count": 25,
   "metadata": {
    "collapsed": false,
    "scrolled": true
   },
   "outputs": [
    {
     "data": {
      "text/plain": [
       "[<matplotlib.lines.Line2D at 0x2024c898>,\n",
       " <matplotlib.lines.Line2D at 0x2024ca90>]"
      ]
     },
     "execution_count": 25,
     "metadata": {},
     "output_type": "execute_result"
    },
    {
     "data": {
      "image/png": "[encoded data removed]",
      "text/plain": [
       "<matplotlib.figure.Figure at 0x1f8c77b8>"
      ]
     },
     "metadata": {},
     "output_type": "display_data"
    }
   ],
   "source": [
    "plt.plot(sales['CrimeRate'],sales['HousePrice'],'.',\n",
    "        sales['CrimeRate'],crime_model.predict(sales),'-')"
   ]
  },
  {
   "cell_type": "markdown",
   "metadata": {},
   "source": [
    "Above: blue dots are original data, green line is the fit from the simple regression."
   ]
  },
  {
   "cell_type": "markdown",
   "metadata": {},
   "source": [
    "# Remove Center City and redo the analysis"
   ]
  },
  {
   "cell_type": "markdown",
   "metadata": {},
   "source": [
    "Center City is the one observation with an extremely high crime rate, yet house prices are not very low.  This point does not follow the trend of the rest of the data very well.  A question is how much including Center City is influencing our fit on the other datapoints.  Let's remove this datapoint and see what happens."
   ]
  },
  {
   "cell_type": "code",
   "execution_count": 26,
   "metadata": {
    "collapsed": true
   },
   "outputs": [],
   "source": [
    "sales_noCC = sales[sales['MilesPhila'] != 0.0] "
   ]
  },
  {
   "cell_type": "code",
   "execution_count": 27,
   "metadata": {
    "collapsed": false
   },
   "outputs": [
    {
     "data": {
      "application/javascript": [
       "$(\"head\").append($(\"<link/>\").attr({\n",
       "  rel:  \"stylesheet\",\n",
       "  type: \"text/css\",\n",
       "  href: \"//cdnjs.cloudflare.com/ajax/libs/font-awesome/4.1.0/css/font-awesome.min.css\"\n",
       "}));\n",
       "$(\"head\").append($(\"<link/>\").attr({\n",
       "  rel:  \"stylesheet\",\n",
       "  type: \"text/css\",\n",
       "  href: \"//dato.com/files/canvas/1.7.1/css/canvas.css\"\n",
       "}));\n",
       "\n",
       "            (function(){\n",
       "\n",
       "                var e = null;\n",
       "                if (typeof element == 'undefined') {\n",
       "                    var scripts = document.getElementsByTagName('script');\n",
       "                    var thisScriptTag = scripts[scripts.length-1];\n",
       "                    var parentDiv = thisScriptTag.parentNode;\n",
       "                    e = document.createElement('div');\n",
       "                    parentDiv.appendChild(e);\n",
       "                } else {\n",
       "                    e = element[0];\n",
       "                }\n",
       "\n",
       "                if (typeof requirejs !== 'undefined') {\n",
       "                    // disable load timeout; ipython_app.js is large and can take a while to load.\n",
       "                    requirejs.config({waitSeconds: 0});\n",
       "                }\n",
       "\n",
       "                require(['//dato.com/files/canvas/1.7.1/js/ipython_app.js'], function(IPythonApp){\n",
       "                    var app = new IPythonApp();\n",
       "                    app.attachView('sframe','Plots', {\"selected_variable\": {\"name\": [\"sales_noCC\"], \"descriptives\": {\"rows\": 98, \"columns\": 7}, \"view_component\": \"Plots\", \"view_file\": \"sframe\", \"view_params\": {\"y\": \"HousePrice\", \"x\": \"CrimeRate\", \"columns\": [\"HousePrice\", \"HsPrc ($10,000)\", \"CrimeRate\", \"MilesPhila\", \"PopChg\", \"Name\", \"County\"], \"view\": \"Scatter Plot\"}, \"view_components\": [\"Summary\", \"Table\", \"Bar Chart\", \"BoxWhisker Plot\", \"Line Chart\", \"Scatter Plot\", \"Heat Map\", \"Plots\"], \"type\": \"SFrame\", \"columns\": [{\"dtype\": \"int\", \"name\": \"HousePrice\"}, {\"dtype\": \"float\", \"name\": \"HsPrc ($10,000)\"}, {\"dtype\": \"float\", \"name\": \"CrimeRate\"}, {\"dtype\": \"float\", \"name\": \"MilesPhila\"}, {\"dtype\": \"float\", \"name\": \"PopChg\"}, {\"dtype\": \"str\", \"name\": \"Name\"}, {\"dtype\": \"str\", \"name\": \"County\"}], \"column_identifiers\": [\"Name\", \"PopChg\", \"County\", \"HousePrice\", \"MilesPhila\", \"HsPrc ($10,000)\", \"CrimeRate\"]}, \"complete\": 1, \"ipython\": true, \"progress\": 1.0, \"data\": [[29.7, 140463], [24.1, 113033], [19.5, 124186], [49.4, 110490], [54.1, 79124], [48.6, 92634], [30.8, 89246], [10.8, 195145], [20.2, 297342], [20.4, 264298], [17.3, 134342], [50.3, 147600], [34.2, 77370], [33.7, 170822], [45.7, 40642], [22.3, 71359], [48.1, 104923], [19.4, 190317], [71.9, 215512], [45.1, 178105], [31.3, 131025], [24.9, 149844], [27.2, 170556], [17.7, 280969], [29.0, 114233], [21.4, 74502], [28.6, 475112], [29.3, 97167], [17.5, 114572], [16.5, 436348], [17.8, 389302], [17.3, 122392], [31.2, 130436], [14.5, 272790], [15.7, 194435], [28.6, 299621], [20.8, 210884], [29.3, 112471], [19.3, 93738], [39.5, 121024], [13.0, 156035], [24.1, 185404], [38.0, 126160], [40.1, 143072], [36.1, 96769], [26.6, 94014], [25.1, 118214], [14.6, 157446], [18.2, 150283], [15.3, 153842], [15.2, 197214], [17.4, 206127], [73.3, 71981], [7.1, 169401], [12.5, 99843], [45.8, 60000], [44.9, 28000], [65.0, 60000], [49.9, 61800], [54.8, 38000], [53.5, 38000], [69.9, 42000], [24.6, 103087], [58.6, 147720], [53.2, 78175], [17.4, 92215], [15.5, 271804], [14.5, 119566], [24.1, 100231], [21.2, 95831], [9.8, 229711], [29.9, 74308], [7.2, 259506], [19.4, 159573], [41.1, 147176], [11.2, 205732], [21.2, 215783], [42.8, 116710], [9.4, 359112], [61.7, 189959], [19.4, 133198], [6.6, 242821], [15.9, 142811], [18.8, 200498], [13.2, 199065], [34.5, 93648], [22.1, 163001], [22.1, 436348], [71.9, 124478], [31.9, 168276], [44.6, 114157], [28.6, 130088], [24.0, 152624], [13.8, 174232], [29.9, 196515], [9.9, 232714], [22.6, 245920], [13.0, 130953]], \"columns\": [{\"dtype\": \"int\", \"name\": \"HousePrice\"}, {\"dtype\": \"float\", \"name\": \"HsPrc ($10,000)\"}, {\"dtype\": \"float\", \"name\": \"CrimeRate\"}, {\"dtype\": \"float\", \"name\": \"MilesPhila\"}, {\"dtype\": \"float\", \"name\": \"PopChg\"}, {\"dtype\": \"str\", \"name\": \"Name\"}, {\"dtype\": \"str\", \"name\": \"County\"}]}, e);\n",
       "                });\n",
       "            })();\n",
       "        "
      ]
     },
     "metadata": {},
     "output_type": "display_data"
    }
   ],
   "source": [
    "sales_noCC.show(view=\"Scatter Plot\", x=\"CrimeRate\", y=\"HousePrice\")"
   ]
  },
  {
   "cell_type": "markdown",
   "metadata": {},
   "source": [
    "### Refit our simple regression model on this modified dataset:"
   ]
  },
  {
   "cell_type": "code",
   "execution_count": 29,
   "metadata": {
    "collapsed": false
   },
   "outputs": [],
   "source": [
    "crime_model_noCC = graphlab.linear_regression.create(sales_noCC, target='HousePrice', features=['CrimeRate'],validation_set=None, verbose=False)"
   ]
  },
  {
   "cell_type": "markdown",
   "metadata": {},
   "source": [
    "### Look at the fit:"
   ]
  },
  {
   "cell_type": "code",
   "execution_count": 30,
   "metadata": {
    "collapsed": false
   },
   "outputs": [
    {
     "data": {
      "text/plain": [
       "[<matplotlib.lines.Line2D at 0x20317160>,\n",
       " <matplotlib.lines.Line2D at 0x20317358>]"
      ]
     },
     "execution_count": 30,
     "metadata": {},
     "output_type": "execute_result"
    },
    {
     "data": {
      "image/png": "[encoded data removed]",
      "text/plain": [
       "<matplotlib.figure.Figure at 0x2014f898>"
      ]
     },
     "metadata": {},
     "output_type": "display_data"
    }
   ],
   "source": [
    "plt.plot(sales_noCC['CrimeRate'],sales_noCC['HousePrice'],'.',\n",
    "        sales_noCC['CrimeRate'],crime_model.predict(sales_noCC),'-')"
   ]
  },
  {
   "cell_type": "markdown",
   "metadata": {},
   "source": [
    "# Compare coefficients for full-data fit versus no-Center-City fit"
   ]
  },
  {
   "cell_type": "markdown",
   "metadata": {},
   "source": [
    "Visually, the fit seems different, but let's quantify this by examining the estimated coefficients of our original fit and that of the modified dataset with Center City removed."
   ]
  },
  {
   "cell_type": "code",
   "execution_count": 31,
   "metadata": {
    "collapsed": false
   },
   "outputs": [
    {
     "data": {
      "text/html": [
       "<div style=\"max-height:1000px;max-width:1500px;overflow:auto;\"><table frame=\"box\" rules=\"cols\">\n",
       "    <tr>\n",
       "        <th style=\"padding-left: 1em; padding-right: 1em; text-align: center\">name</th>\n",
       "        <th style=\"padding-left: 1em; padding-right: 1em; text-align: center\">index</th>\n",
       "        <th style=\"padding-left: 1em; padding-right: 1em; text-align: center\">value</th>\n",
       "    </tr>\n",
       "    <tr>\n",
       "        <td style=\"padding-left: 1em; padding-right: 1em; text-align: center; vertical-align: top\">(intercept)</td>\n",
       "        <td style=\"padding-left: 1em; padding-right: 1em; text-align: center; vertical-align: top\">None</td>\n",
       "        <td style=\"padding-left: 1em; padding-right: 1em; text-align: center; vertical-align: top\">176626.046881</td>\n",
       "    </tr>\n",
       "    <tr>\n",
       "        <td style=\"padding-left: 1em; padding-right: 1em; text-align: center; vertical-align: top\">CrimeRate</td>\n",
       "        <td style=\"padding-left: 1em; padding-right: 1em; text-align: center; vertical-align: top\">None</td>\n",
       "        <td style=\"padding-left: 1em; padding-right: 1em; text-align: center; vertical-align: top\">-576.804949058</td>\n",
       "    </tr>\n",
       "</table>\n",
       "[2 rows x 3 columns]<br/>\n",
       "</div>"
      ],
      "text/plain": [
       "Columns:\n",
       "\tname\tstr\n",
       "\tindex\tstr\n",
       "\tvalue\tfloat\n",
       "\n",
       "Rows: 2\n",
       "\n",
       "Data:\n",
       "+-------------+-------+----------------+\n",
       "|     name    | index |     value      |\n",
       "+-------------+-------+----------------+\n",
       "| (intercept) |  None | 176626.046881  |\n",
       "|  CrimeRate  |  None | -576.804949058 |\n",
       "+-------------+-------+----------------+\n",
       "[2 rows x 3 columns]"
      ]
     },
     "execution_count": 31,
     "metadata": {},
     "output_type": "execute_result"
    }
   ],
   "source": [
    "crime_model.get('coefficients')"
   ]
  },
  {
   "cell_type": "code",
   "execution_count": 32,
   "metadata": {
    "collapsed": false
   },
   "outputs": [
    {
     "data": {
      "text/html": [
       "<div style=\"max-height:1000px;max-width:1500px;overflow:auto;\"><table frame=\"box\" rules=\"cols\">\n",
       "    <tr>\n",
       "        <th style=\"padding-left: 1em; padding-right: 1em; text-align: center\">name</th>\n",
       "        <th style=\"padding-left: 1em; padding-right: 1em; text-align: center\">index</th>\n",
       "        <th style=\"padding-left: 1em; padding-right: 1em; text-align: center\">value</th>\n",
       "    </tr>\n",
       "    <tr>\n",
       "        <td style=\"padding-left: 1em; padding-right: 1em; text-align: center; vertical-align: top\">(intercept)</td>\n",
       "        <td style=\"padding-left: 1em; padding-right: 1em; text-align: center; vertical-align: top\">None</td>\n",
       "        <td style=\"padding-left: 1em; padding-right: 1em; text-align: center; vertical-align: top\">225204.604303</td>\n",
       "    </tr>\n",
       "    <tr>\n",
       "        <td style=\"padding-left: 1em; padding-right: 1em; text-align: center; vertical-align: top\">CrimeRate</td>\n",
       "        <td style=\"padding-left: 1em; padding-right: 1em; text-align: center; vertical-align: top\">None</td>\n",
       "        <td style=\"padding-left: 1em; padding-right: 1em; text-align: center; vertical-align: top\">-2287.69717443</td>\n",
       "    </tr>\n",
       "</table>\n",
       "[2 rows x 3 columns]<br/>\n",
       "</div>"
      ],
      "text/plain": [
       "Columns:\n",
       "\tname\tstr\n",
       "\tindex\tstr\n",
       "\tvalue\tfloat\n",
       "\n",
       "Rows: 2\n",
       "\n",
       "Data:\n",
       "+-------------+-------+----------------+\n",
       "|     name    | index |     value      |\n",
       "+-------------+-------+----------------+\n",
       "| (intercept) |  None | 225204.604303  |\n",
       "|  CrimeRate  |  None | -2287.69717443 |\n",
       "+-------------+-------+----------------+\n",
       "[2 rows x 3 columns]"
      ]
     },
     "execution_count": 32,
     "metadata": {},
     "output_type": "execute_result"
    }
   ],
   "source": [
    "crime_model_noCC.get('coefficients')"
   ]
  },
  {
   "cell_type": "markdown",
   "metadata": {},
   "source": [
    "Above: We see that for the \"no Center City\" version, per unit increase in crime, the predicted decrease in house prices is 2,287.  In contrast, for the original dataset, the drop is only 576 per unit increase in crime.  This is significantly different!"
   ]
  },
  {
   "cell_type": "markdown",
   "metadata": {},
   "source": [
    "###High leverage points: \n",
    "Center City is said to be a \"high leverage\" point because it is at an extreme x value where there are not other observations.  As a result, recalling the closed-form solution for simple regression, this point has the *potential* to dramatically change the least squares line since the center of x mass is heavily influenced by this one point and the least squares line will try to fit close to that outlying (in x) point.  If a high leverage point follows the trend of the other data, this might not have much effect.  On the other hand, if this point somehow differs, it can be strongly influential in the resulting fit.\n",
    "\n",
    "###Influential observations:  \n",
    "An influential observation is one where the removal of the point significantly changes the fit.  As discussed above, high leverage points are good candidates for being influential observations, but need not be.  Other observations that are *not* leverage points can also be influential observations (e.g., strongly outlying in y even if x is a typical value)."
   ]
  },
  {
   "cell_type": "markdown",
   "metadata": {},
   "source": [
    "# Remove high-value outlier neighborhoods and redo analysis"
   ]
  },
  {
   "cell_type": "markdown",
   "metadata": {},
   "source": [
    "Based on the discussion above, a question is whether the outlying high-value towns are strongly influencing the fit.  Let's remove them and see what happens."
   ]
  },
  {
   "cell_type": "code",
   "execution_count": 33,
   "metadata": {
    "collapsed": false
   },
   "outputs": [],
   "source": [
    "sales_nohighend = sales_noCC[sales_noCC['HousePrice'] < 350000] \n",
    "crime_model_nohighend = graphlab.linear_regression.create(sales_nohighend, target='HousePrice', features=['CrimeRate'],validation_set=None, verbose=False)"
   ]
  },
  {
   "cell_type": "markdown",
   "metadata": {},
   "source": [
    "### Do the coefficients change much?"
   ]
  },
  {
   "cell_type": "code",
   "execution_count": 34,
   "metadata": {
    "collapsed": false
   },
   "outputs": [
    {
     "data": {
      "text/html": [
       "<div style=\"max-height:1000px;max-width:1500px;overflow:auto;\"><table frame=\"box\" rules=\"cols\">\n",
       "    <tr>\n",
       "        <th style=\"padding-left: 1em; padding-right: 1em; text-align: center\">name</th>\n",
       "        <th style=\"padding-left: 1em; padding-right: 1em; text-align: center\">index</th>\n",
       "        <th style=\"padding-left: 1em; padding-right: 1em; text-align: center\">value</th>\n",
       "    </tr>\n",
       "    <tr>\n",
       "        <td style=\"padding-left: 1em; padding-right: 1em; text-align: center; vertical-align: top\">(intercept)</td>\n",
       "        <td style=\"padding-left: 1em; padding-right: 1em; text-align: center; vertical-align: top\">None</td>\n",
       "        <td style=\"padding-left: 1em; padding-right: 1em; text-align: center; vertical-align: top\">225204.604303</td>\n",
       "    </tr>\n",
       "    <tr>\n",
       "        <td style=\"padding-left: 1em; padding-right: 1em; text-align: center; vertical-align: top\">CrimeRate</td>\n",
       "        <td style=\"padding-left: 1em; padding-right: 1em; text-align: center; vertical-align: top\">None</td>\n",
       "        <td style=\"padding-left: 1em; padding-right: 1em; text-align: center; vertical-align: top\">-2287.69717443</td>\n",
       "    </tr>\n",
       "</table>\n",
       "[2 rows x 3 columns]<br/>\n",
       "</div>"
      ],
      "text/plain": [
       "Columns:\n",
       "\tname\tstr\n",
       "\tindex\tstr\n",
       "\tvalue\tfloat\n",
       "\n",
       "Rows: 2\n",
       "\n",
       "Data:\n",
       "+-------------+-------+----------------+\n",
       "|     name    | index |     value      |\n",
       "+-------------+-------+----------------+\n",
       "| (intercept) |  None | 225204.604303  |\n",
       "|  CrimeRate  |  None | -2287.69717443 |\n",
       "+-------------+-------+----------------+\n",
       "[2 rows x 3 columns]"
      ]
     },
     "execution_count": 34,
     "metadata": {},
     "output_type": "execute_result"
    }
   ],
   "source": [
    "crime_model_noCC.get('coefficients')"
   ]
  },
  {
   "cell_type": "code",
   "execution_count": 35,
   "metadata": {
    "collapsed": false
   },
   "outputs": [
    {
     "data": {
      "text/html": [
       "<div style=\"max-height:1000px;max-width:1500px;overflow:auto;\"><table frame=\"box\" rules=\"cols\">\n",
       "    <tr>\n",
       "        <th style=\"padding-left: 1em; padding-right: 1em; text-align: center\">name</th>\n",
       "        <th style=\"padding-left: 1em; padding-right: 1em; text-align: center\">index</th>\n",
       "        <th style=\"padding-left: 1em; padding-right: 1em; text-align: center\">value</th>\n",
       "    </tr>\n",
       "    <tr>\n",
       "        <td style=\"padding-left: 1em; padding-right: 1em; text-align: center; vertical-align: top\">(intercept)</td>\n",
       "        <td style=\"padding-left: 1em; padding-right: 1em; text-align: center; vertical-align: top\">None</td>\n",
       "        <td style=\"padding-left: 1em; padding-right: 1em; text-align: center; vertical-align: top\">199073.589615</td>\n",
       "    </tr>\n",
       "    <tr>\n",
       "        <td style=\"padding-left: 1em; padding-right: 1em; text-align: center; vertical-align: top\">CrimeRate</td>\n",
       "        <td style=\"padding-left: 1em; padding-right: 1em; text-align: center; vertical-align: top\">None</td>\n",
       "        <td style=\"padding-left: 1em; padding-right: 1em; text-align: center; vertical-align: top\">-1837.71280989</td>\n",
       "    </tr>\n",
       "</table>\n",
       "[2 rows x 3 columns]<br/>\n",
       "</div>"
      ],
      "text/plain": [
       "Columns:\n",
       "\tname\tstr\n",
       "\tindex\tstr\n",
       "\tvalue\tfloat\n",
       "\n",
       "Rows: 2\n",
       "\n",
       "Data:\n",
       "+-------------+-------+----------------+\n",
       "|     name    | index |     value      |\n",
       "+-------------+-------+----------------+\n",
       "| (intercept) |  None | 199073.589615  |\n",
       "|  CrimeRate  |  None | -1837.71280989 |\n",
       "+-------------+-------+----------------+\n",
       "[2 rows x 3 columns]"
      ]
     },
     "execution_count": 35,
     "metadata": {},
     "output_type": "execute_result"
    }
   ],
   "source": [
    "crime_model_nohighend.get('coefficients')"
   ]
  },
  {
   "cell_type": "markdown",
   "metadata": {},
   "source": [
    "Above: We see that removing the outlying high-value neighborhoods has *some* effect on the fit, but not nearly as much as our high-leverage Center City datapoint."
   ]
  },
  {
   "cell_type": "code",
   "execution_count": null,
   "metadata": {
    "collapsed": true
   },
   "outputs": [],
   "source": []
  }
 ],
 "metadata": {
  "kernelspec": {
   "display_name": "Python 2",
   "language": "python",
   "name": "python2"
  },
  "language_info": {
   "codemirror_mode": {
    "name": "ipython",
    "version": 2
   },
   "file_extension": ".py",
   "mimetype": "text/x-python",
   "name": "python",
   "nbconvert_exporter": "python",
   "pygments_lexer": "ipython2",
   "version": "2.7.11"
  }
 },
 "nbformat": 4,
 "nbformat_minor": 0
}
